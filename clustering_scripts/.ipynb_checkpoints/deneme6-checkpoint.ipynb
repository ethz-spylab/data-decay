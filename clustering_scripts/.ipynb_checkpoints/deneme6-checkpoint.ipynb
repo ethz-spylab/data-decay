{
 "cells": [
  {
   "cell_type": "code",
   "execution_count": 1,
   "id": "cfb103c9-e04a-4276-b9e4-b3c916b2e999",
   "metadata": {},
   "outputs": [],
   "source": [
    "import pickle\n",
    "import numpy as np\n",
    "import pandas as pd\n",
    "import requests\n",
    "import matplotlib.pyplot as plt\n",
    "import random\n",
    "import clip\n",
    "import torch\n",
    "import time\n",
    "from tqdm import tqdm"
   ]
  },
  {
   "cell_type": "code",
   "execution_count": 2,
   "id": "f3d49eb1-f6b5-4d1e-9996-bf1d6f086d62",
   "metadata": {},
   "outputs": [],
   "source": [
    "df_train = pd.read_csv(\"/data/cc3m/cc3m_2023/Train_GCC-training.tsv\", sep='\\t', names=[\"caption\",\"url\"], usecols=range(0,2))\n",
    "comparison = np.load(\"/data/cc3m/cc3m_2023/embeddings/CC_vs_imagenet.npy\")\n",
    "with open('/data/cc3m/imagenet_classes.txt') as f:\n",
    "    mylist = f.read().splitlines()\n",
    "texts = [\"This is a \" + element for element in mylist]\n",
    "model, preprocess = clip.load(\"ViT-B/32\")"
   ]
  },
  {
   "cell_type": "code",
   "execution_count": 28,
   "id": "a106b3fd-bdf4-4577-aad4-9cdead84480d",
   "metadata": {},
   "outputs": [],
   "source": [
    "i = 678232\n",
    "j = 983"
   ]
  },
  {
   "cell_type": "code",
   "execution_count": 29,
   "id": "e61e6f64-79c0-4fbf-83a5-46783917848e",
   "metadata": {},
   "outputs": [
    {
     "name": "stdout",
     "output_type": "stream",
     "text": [
      "0.68051827\n",
      "0.68\n"
     ]
    }
   ],
   "source": [
    "text_tokens = clip.tokenize(df_train['caption'][i],truncate=True).cuda()\n",
    "with torch.no_grad():\n",
    "    text_features = model.encode_text(text_tokens).float()\n",
    "    text_features /= text_features.norm(dim=-1, keepdim=True)\n",
    "cc_f = text_features.cpu().numpy()\n",
    "\n",
    "text_tokens = clip.tokenize(texts[j],truncate=True).cuda()\n",
    "with torch.no_grad():\n",
    "    text_features = model.encode_text(text_tokens).float()\n",
    "    text_features /= text_features.norm(dim=-1, keepdim=True)\n",
    "im_f = text_features.cpu().numpy()\n",
    "print(np.sum(cc_f*im_f))\n",
    "print(comparison[i,j])"
   ]
  },
  {
   "cell_type": "code",
   "execution_count": null,
   "id": "8c0f6462-da80-41d2-90ed-6a2a6cd555c6",
   "metadata": {},
   "outputs": [],
   "source": []
  }
 ],
 "metadata": {
  "kernelspec": {
   "display_name": "Python 3 (ipykernel)",
   "language": "python",
   "name": "python3"
  },
  "language_info": {
   "codemirror_mode": {
    "name": "ipython",
    "version": 3
   },
   "file_extension": ".py",
   "mimetype": "text/x-python",
   "name": "python",
   "nbconvert_exporter": "python",
   "pygments_lexer": "ipython3",
   "version": "3.8.10"
  }
 },
 "nbformat": 4,
 "nbformat_minor": 5
}
