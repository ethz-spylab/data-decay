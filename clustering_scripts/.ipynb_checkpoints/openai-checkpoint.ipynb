{
 "cells": [
  {
   "cell_type": "code",
   "execution_count": 2,
   "id": "e9db077f-541e-41d9-8636-97c7c5eba324",
   "metadata": {},
   "outputs": [],
   "source": [
    "import torch, torch.nn as nn\n",
    "import pickle\n",
    "import pickle\n",
    "import numpy as np\n",
    "import pandas as pd\n",
    "import pickle\n",
    "import open_clip\n",
    "from open_clip import create_model_and_transforms\n",
    "#from open_clip import load_model, tokenize, embed_text"
   ]
  },
  {
   "cell_type": "code",
   "execution_count": 3,
   "id": "8373a230-4dc3-4d68-8d60-7bd88eb87874",
   "metadata": {},
   "outputs": [
    {
     "name": "stderr",
     "output_type": "stream",
     "text": [
      "100%|███████████████████████████████████████| 933M/933M [00:16<00:00, 57.2MiB/s]\n"
     ]
    }
   ],
   "source": [
    "model, _, preprocess = create_model_and_transforms(\"ViT-L-14\", \"openai\")"
   ]
  },
  {
   "cell_type": "code",
   "execution_count": 6,
   "id": "09b0fc6c-56aa-4926-85c3-d100c20280f8",
   "metadata": {},
   "outputs": [],
   "source": [
    "from pathlib import Path\n",
    "DATA_FOLDER = Path(\"/data/cc3m\")\n",
    "EMBEDDINGS_FOLDER = DATA_FOLDER / \"cc3m_2023/embeddings\"\n",
    "CLUSTER_CENTERS = EMBEDDINGS_FOLDER / \"cluster_centers.npy\"\n",
    "DOT_PRODUCTS = EMBEDDINGS_FOLDER / \"CC_vs_cluster_centers.npy\"\n",
    "DISTANCES = EMBEDDINGS_FOLDER / \"CC_vs_cluster_centers_distances.npy\""
   ]
  },
  {
   "cell_type": "code",
   "execution_count": 7,
   "id": "e2b4966d-f7d4-43af-8acb-020a09c3b0db",
   "metadata": {},
   "outputs": [],
   "source": [
    "cluster_centers = np.load(CLUSTER_CENTERS)\n",
    "cluster_dot_products = np.load(DOT_PRODUCTS)\n",
    "cluster_distances = np.load(DISTANCES)"
   ]
  },
  {
   "cell_type": "code",
   "execution_count": 9,
   "id": "b998f4b9-f48c-49c0-99b6-0a8580d2d457",
   "metadata": {},
   "outputs": [
    {
     "data": {
      "text/plain": [
       "(3318333, 100)"
      ]
     },
     "execution_count": 9,
     "metadata": {},
     "output_type": "execute_result"
    }
   ],
   "source": [
    "cluster_distances.shape"
   ]
  },
  {
   "cell_type": "code",
   "execution_count": 10,
   "id": "bad5ca7d-d294-4fab-baeb-8a0ca77d3ced",
   "metadata": {},
   "outputs": [
    {
     "data": {
      "text/plain": [
       "(3318333, 100)"
      ]
     },
     "execution_count": 10,
     "metadata": {},
     "output_type": "execute_result"
    }
   ],
   "source": [
    "cluster_dot_products.shape"
   ]
  },
  {
   "cell_type": "code",
   "execution_count": 12,
   "id": "2a71ec7e-a956-4e29-bb12-a3984831ce09",
   "metadata": {},
   "outputs": [
    {
     "data": {
      "text/plain": [
       "(100, 512)"
      ]
     },
     "execution_count": 12,
     "metadata": {},
     "output_type": "execute_result"
    }
   ],
   "source": [
    "cluster_centers.shape"
   ]
  },
  {
   "cell_type": "code",
   "execution_count": null,
   "id": "91da2d68-66f3-4844-baff-40fa32a54811",
   "metadata": {},
   "outputs": [],
   "source": []
  }
 ],
 "metadata": {
  "kernelspec": {
   "display_name": "Python 3 (ipykernel)",
   "language": "python",
   "name": "python3"
  },
  "language_info": {
   "codemirror_mode": {
    "name": "ipython",
    "version": 3
   },
   "file_extension": ".py",
   "mimetype": "text/x-python",
   "name": "python",
   "nbconvert_exporter": "python",
   "pygments_lexer": "ipython3",
   "version": "3.8.10"
  }
 },
 "nbformat": 4,
 "nbformat_minor": 5
}
