{
 "cells": [
  {
   "cell_type": "code",
   "execution_count": 1,
   "id": "ecf238d2-a845-4b75-943c-86a28b2ad1be",
   "metadata": {},
   "outputs": [],
   "source": [
    "import pickle\n",
    "import numpy as np\n",
    "import pandas as pd\n",
    "import requests\n",
    "import matplotlib.pyplot as plt\n",
    "import random\n",
    "import clip\n",
    "import torch\n",
    "import time\n",
    "from tqdm import tqdm"
   ]
  },
  {
   "cell_type": "code",
   "execution_count": 17,
   "id": "7b6cbfdf-5782-43a7-b551-ff52b176cecb",
   "metadata": {},
   "outputs": [],
   "source": [
    "import random\n",
    "random.seed(42)"
   ]
  },
  {
   "cell_type": "code",
   "execution_count": 2,
   "id": "edecdd05-dfa1-4b21-86df-4215f7a63cd9",
   "metadata": {},
   "outputs": [],
   "source": [
    "similarity = np.load(\"/data/cc3m/cc3m_2023/embeddings/CC_vs_imagenet_L14.npy\")"
   ]
  },
  {
   "cell_type": "code",
   "execution_count": 18,
   "id": "383bf13a-0ecf-4fe7-a93c-03a3bf6171ea",
   "metadata": {},
   "outputs": [],
   "source": [
    "col_id = 523\n",
    "n_relevant = 10"
   ]
  },
  {
   "cell_type": "code",
   "execution_count": 16,
   "id": "44e1a689-6ce9-4ed3-8cdd-d80dcb4ea662",
   "metadata": {},
   "outputs": [
    {
     "data": {
      "text/plain": [
       "array([0.24851964, 0.09767986, 0.2211368 , ..., 0.18903431, 0.26058257,\n",
       "       0.12977234], dtype=float32)"
      ]
     },
     "execution_count": 16,
     "metadata": {},
     "output_type": "execute_result"
    }
   ],
   "source": [
    "similarity[:,col_id]"
   ]
  },
  {
   "cell_type": "code",
   "execution_count": 21,
   "id": "2a621a6c-3919-4c19-a96e-037fa94d80dd",
   "metadata": {},
   "outputs": [],
   "source": [
    "random_entries = random.sample(range(len(similarity[:,col_id])), min(n_relevant, len(similarity[:,col_id])))"
   ]
  },
  {
   "cell_type": "code",
   "execution_count": 22,
   "id": "434097bf-4948-4759-849b-9884666ccc22",
   "metadata": {},
   "outputs": [
    {
     "data": {
      "text/plain": [
       "[2681950,\n",
       " 466956,\n",
       " 104902,\n",
       " 3110288,\n",
       " 1153556,\n",
       " 1027150,\n",
       " 936213,\n",
       " 585264,\n",
       " 3088984,\n",
       " 429895]"
      ]
     },
     "execution_count": 22,
     "metadata": {},
     "output_type": "execute_result"
    }
   ],
   "source": [
    "random_entries"
   ]
  },
  {
   "cell_type": "code",
   "execution_count": null,
   "id": "605d8024-95a6-4401-bc2f-1e19af5124d1",
   "metadata": {},
   "outputs": [],
   "source": [
    "raise NotImplementedError(\"This function is not implemented yet.\")"
   ]
  }
 ],
 "metadata": {
  "kernelspec": {
   "display_name": "Python 3 (ipykernel)",
   "language": "python",
   "name": "python3"
  },
  "language_info": {
   "codemirror_mode": {
    "name": "ipython",
    "version": 3
   },
   "file_extension": ".py",
   "mimetype": "text/x-python",
   "name": "python",
   "nbconvert_exporter": "python",
   "pygments_lexer": "ipython3",
   "version": "3.8.10"
  }
 },
 "nbformat": 4,
 "nbformat_minor": 5
}
