{
 "cells": [
  {
   "cell_type": "code",
   "execution_count": 1,
   "id": "7df68ae7-a400-4b5e-8e12-0f4392ce9ee7",
   "metadata": {},
   "outputs": [],
   "source": [
    "import pickle\n",
    "import numpy as np\n",
    "import pandas as pd\n",
    "import requests\n",
    "import matplotlib.pyplot as plt\n",
    "import random\n",
    "import clip\n",
    "import torch\n",
    "import time\n",
    "from tqdm import tqdm"
   ]
  },
  {
   "cell_type": "code",
   "execution_count": 2,
   "id": "e2e0da99-00e5-4764-a0b9-631610cba305",
   "metadata": {},
   "outputs": [],
   "source": [
    "cc = np.load(\"/data/cc3m/cc3m_2023/embeddings/text_embeddings.npy\")\n",
    "imgn = np.load(\"/data/cc3m/cc3m_2023/embeddings/imagenet_class_embeddings.npy\")"
   ]
  },
  {
   "cell_type": "code",
   "execution_count": null,
   "id": "e7dccbf1-45f3-4ada-9035-99ab055fecf2",
   "metadata": {},
   "outputs": [],
   "source": []
  }
 ],
 "metadata": {
  "kernelspec": {
   "display_name": "virtualenv",
   "language": "python",
   "name": "virtualenv"
  },
  "language_info": {
   "codemirror_mode": {
    "name": "ipython",
    "version": 3
   },
   "file_extension": ".py",
   "mimetype": "text/x-python",
   "name": "python",
   "nbconvert_exporter": "python",
   "pygments_lexer": "ipython3",
   "version": "3.8.10"
  }
 },
 "nbformat": 4,
 "nbformat_minor": 5
}
