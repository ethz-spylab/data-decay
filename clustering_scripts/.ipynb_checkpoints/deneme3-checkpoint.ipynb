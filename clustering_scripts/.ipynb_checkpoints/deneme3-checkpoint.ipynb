{
 "cells": [
  {
   "cell_type": "code",
   "execution_count": 79,
   "id": "71ea5469-f66d-439a-83d2-010c51ec1254",
   "metadata": {},
   "outputs": [],
   "source": [
    "import pickle\n",
    "import numpy as np\n",
    "import pandas as pd\n",
    "import requests\n",
    "import matplotlib.pyplot as plt\n",
    "import random\n",
    "import clip\n",
    "import torch\n",
    "import time\n",
    "from tqdm import tqdm"
   ]
  },
  {
   "cell_type": "code",
   "execution_count": 80,
   "id": "a0d2f8fb-9800-4108-8e4d-f82abd780763",
   "metadata": {},
   "outputs": [
    {
     "data": {
      "text/plain": [
       "['RN50',\n",
       " 'RN101',\n",
       " 'RN50x4',\n",
       " 'RN50x16',\n",
       " 'RN50x64',\n",
       " 'ViT-B/32',\n",
       " 'ViT-B/16',\n",
       " 'ViT-L/14',\n",
       " 'ViT-L/14@336px']"
      ]
     },
     "execution_count": 80,
     "metadata": {},
     "output_type": "execute_result"
    }
   ],
   "source": [
    "clip.available_models()"
   ]
  },
  {
   "cell_type": "code",
   "execution_count": 81,
   "id": "45016475-f528-4091-860f-230a270b60b6",
   "metadata": {},
   "outputs": [],
   "source": [
    "model, preprocess = clip.load(\"ViT-B/32\")"
   ]
  },
  {
   "cell_type": "code",
   "execution_count": 4,
   "id": "fea89b92-dbf6-4246-963f-3f5bab20fd5a",
   "metadata": {},
   "outputs": [],
   "source": [
    "model.cuda().eval()\n",
    "df_train = pd.read_csv(\"/data/cc3m/cc3m_2023/Train_GCC-training.tsv\", sep='\\t', names=[\"caption\",\"url\"], usecols=range(0,2))"
   ]
  },
  {
   "cell_type": "code",
   "execution_count": 5,
   "id": "26c9645e-4d45-4f74-955c-853ca79a3f74",
   "metadata": {},
   "outputs": [],
   "source": [
    "step_size = 100\n",
    "save_size = 1000000\n",
    "caption_size = len(df_train)"
   ]
  },
  {
   "cell_type": "code",
   "execution_count": 6,
   "id": "048d169e-81e6-4609-b198-2401d4d05c67",
   "metadata": {},
   "outputs": [],
   "source": [
    "b = [df_train['caption'][x] for x in range(step_size)]"
   ]
  },
  {
   "cell_type": "code",
   "execution_count": 7,
   "id": "02930eac-9c4f-4ce3-b4f4-736c2d1d0f12",
   "metadata": {},
   "outputs": [],
   "source": [
    "tic = time.perf_counter()\n",
    "text_tokens = clip.tokenize(b,truncate=True).cuda()\n",
    "with torch.no_grad():\n",
    "    text_features = model.encode_text(text_tokens).float()\n",
    "    text_features /= text_features.norm(dim=-1, keepdim=True)\n",
    "\n",
    "toc = time.perf_counter()"
   ]
  },
  {
   "cell_type": "code",
   "execution_count": 16,
   "id": "07cb5ece-10b0-4b5a-8e38-bb22622fab75",
   "metadata": {},
   "outputs": [],
   "source": [
    "torch.cuda.empty_cache()"
   ]
  },
  {
   "cell_type": "code",
   "execution_count": 4,
   "id": "68a21a38-739b-4e41-be8c-b523cf46877a",
   "metadata": {},
   "outputs": [
    {
     "data": {
      "text/plain": [
       "True"
      ]
     },
     "execution_count": 4,
     "metadata": {},
     "output_type": "execute_result"
    }
   ],
   "source": [
    "torch.cuda.is_available()"
   ]
  },
  {
   "cell_type": "code",
   "execution_count": 5,
   "id": "7329d1be-3b03-452b-9349-1f63cae643ec",
   "metadata": {},
   "outputs": [
    {
     "data": {
      "text/plain": [
       "8"
      ]
     },
     "execution_count": 5,
     "metadata": {},
     "output_type": "execute_result"
    }
   ],
   "source": [
    "torch.cuda.device_count()"
   ]
  },
  {
   "cell_type": "code",
   "execution_count": 8,
   "id": "aaa818d0-87e9-4d86-a913-0338a330c96a",
   "metadata": {},
   "outputs": [
    {
     "data": {
      "text/plain": [
       "0"
      ]
     },
     "execution_count": 8,
     "metadata": {},
     "output_type": "execute_result"
    }
   ],
   "source": [
    "import gc\n",
    "\n",
    "gc.collect()"
   ]
  },
  {
   "cell_type": "code",
   "execution_count": 10,
   "id": "c2b6670e-8a5e-414c-a2ae-0b5e67b2b41b",
   "metadata": {},
   "outputs": [],
   "source": [
    "text_tokens = clip.tokenize(df_train['caption'][0:10],truncate=True).cuda()\n",
    "with torch.no_grad():\n",
    "    text_features = model.encode_text(text_tokens).float()\n",
    "    text_features /= text_features.norm(dim=-1, keepdim=True)"
   ]
  },
  {
   "cell_type": "code",
   "execution_count": 11,
   "id": "4983dd39-03ae-46e7-bba8-5fd7cb0998ae",
   "metadata": {},
   "outputs": [
    {
     "data": {
      "text/plain": [
       "torch.Size([10, 512])"
      ]
     },
     "execution_count": 11,
     "metadata": {},
     "output_type": "execute_result"
    }
   ],
   "source": [
    "text_features.shape"
   ]
  },
  {
   "cell_type": "code",
   "execution_count": 27,
   "id": "4752b7ec-605e-4c94-ba99-a379391cdfc6",
   "metadata": {},
   "outputs": [
    {
     "data": {
      "text/plain": [
       "array([[ 0.02720431, -0.00921767,  0.00212494, ..., -0.01449956,\n",
       "        -0.01343549,  0.00367938],\n",
       "       [ 0.00052939,  0.02368915, -0.01544746, ..., -0.00031563,\n",
       "         0.00554143,  0.01866187],\n",
       "       [-0.03561474, -0.04302189, -0.00535884, ..., -0.03114023,\n",
       "         0.02808667,  0.00128019],\n",
       "       ...,\n",
       "       [-0.00746859, -0.04643161,  0.05686495, ...,  0.04264062,\n",
       "         0.00019542, -0.0481489 ],\n",
       "       [-0.01038751, -0.01968765, -0.028297  , ...,  0.08842172,\n",
       "         0.0158499 , -0.01085443],\n",
       "       [ 0.00629262,  0.05300578,  0.01879912, ...,  0.01751516,\n",
       "        -0.03658077, -0.02003463]], dtype=float32)"
      ]
     },
     "execution_count": 27,
     "metadata": {},
     "output_type": "execute_result"
    }
   ],
   "source": [
    "text_features.cpu().numpy()"
   ]
  },
  {
   "cell_type": "code",
   "execution_count": 17,
   "id": "905e6bee-d79b-4362-9c4f-1d890cc06f38",
   "metadata": {},
   "outputs": [],
   "source": [
    "df = pd.DataFrame(index=range(caption_size),columns=range(512))"
   ]
  },
  {
   "cell_type": "code",
   "execution_count": 22,
   "id": "dce918a9-bee2-4b9c-8697-2aa380d1d673",
   "metadata": {},
   "outputs": [],
   "source": [
    "df.loc[0:9] = text_features.cpu().numpy()"
   ]
  },
  {
   "cell_type": "code",
   "execution_count": 26,
   "id": "fa3b0ebf-2e00-4fe6-8893-000857ff1267",
   "metadata": {},
   "outputs": [
    {
     "data": {
      "text/html": [
       "<div>\n",
       "<style scoped>\n",
       "    .dataframe tbody tr th:only-of-type {\n",
       "        vertical-align: middle;\n",
       "    }\n",
       "\n",
       "    .dataframe tbody tr th {\n",
       "        vertical-align: top;\n",
       "    }\n",
       "\n",
       "    .dataframe thead th {\n",
       "        text-align: right;\n",
       "    }\n",
       "</style>\n",
       "<table border=\"1\" class=\"dataframe\">\n",
       "  <thead>\n",
       "    <tr style=\"text-align: right;\">\n",
       "      <th></th>\n",
       "      <th>0</th>\n",
       "      <th>1</th>\n",
       "      <th>2</th>\n",
       "      <th>3</th>\n",
       "      <th>4</th>\n",
       "      <th>5</th>\n",
       "      <th>6</th>\n",
       "      <th>7</th>\n",
       "      <th>8</th>\n",
       "      <th>9</th>\n",
       "      <th>...</th>\n",
       "      <th>502</th>\n",
       "      <th>503</th>\n",
       "      <th>504</th>\n",
       "      <th>505</th>\n",
       "      <th>506</th>\n",
       "      <th>507</th>\n",
       "      <th>508</th>\n",
       "      <th>509</th>\n",
       "      <th>510</th>\n",
       "      <th>511</th>\n",
       "    </tr>\n",
       "  </thead>\n",
       "  <tbody>\n",
       "    <tr>\n",
       "      <th>0</th>\n",
       "      <td>0.027204</td>\n",
       "      <td>-0.009218</td>\n",
       "      <td>0.002125</td>\n",
       "      <td>-0.013359</td>\n",
       "      <td>-0.035871</td>\n",
       "      <td>-0.028179</td>\n",
       "      <td>0.008647</td>\n",
       "      <td>-0.099228</td>\n",
       "      <td>-0.044358</td>\n",
       "      <td>0.004814</td>\n",
       "      <td>...</td>\n",
       "      <td>-0.001514</td>\n",
       "      <td>0.034281</td>\n",
       "      <td>0.018179</td>\n",
       "      <td>0.020179</td>\n",
       "      <td>-0.03282</td>\n",
       "      <td>-0.015756</td>\n",
       "      <td>0.04405</td>\n",
       "      <td>-0.0145</td>\n",
       "      <td>-0.013435</td>\n",
       "      <td>0.003679</td>\n",
       "    </tr>\n",
       "    <tr>\n",
       "      <th>1</th>\n",
       "      <td>0.000529</td>\n",
       "      <td>0.023689</td>\n",
       "      <td>-0.015447</td>\n",
       "      <td>0.037842</td>\n",
       "      <td>-0.040462</td>\n",
       "      <td>0.028914</td>\n",
       "      <td>-0.044088</td>\n",
       "      <td>-0.091161</td>\n",
       "      <td>-0.027086</td>\n",
       "      <td>-0.019942</td>\n",
       "      <td>...</td>\n",
       "      <td>-0.008059</td>\n",
       "      <td>0.004761</td>\n",
       "      <td>0.015097</td>\n",
       "      <td>0.014305</td>\n",
       "      <td>-0.031261</td>\n",
       "      <td>0.023781</td>\n",
       "      <td>-0.026447</td>\n",
       "      <td>-0.000316</td>\n",
       "      <td>0.005541</td>\n",
       "      <td>0.018662</td>\n",
       "    </tr>\n",
       "    <tr>\n",
       "      <th>2</th>\n",
       "      <td>-0.035615</td>\n",
       "      <td>-0.043022</td>\n",
       "      <td>-0.005359</td>\n",
       "      <td>0.049703</td>\n",
       "      <td>-0.002438</td>\n",
       "      <td>0.051759</td>\n",
       "      <td>-0.012244</td>\n",
       "      <td>-0.091183</td>\n",
       "      <td>-0.044352</td>\n",
       "      <td>-0.045561</td>\n",
       "      <td>...</td>\n",
       "      <td>-0.033438</td>\n",
       "      <td>0.068569</td>\n",
       "      <td>0.087495</td>\n",
       "      <td>0.028858</td>\n",
       "      <td>-0.011912</td>\n",
       "      <td>-0.019002</td>\n",
       "      <td>-0.02467</td>\n",
       "      <td>-0.03114</td>\n",
       "      <td>0.028087</td>\n",
       "      <td>0.00128</td>\n",
       "    </tr>\n",
       "    <tr>\n",
       "      <th>3</th>\n",
       "      <td>0.068148</td>\n",
       "      <td>-0.018358</td>\n",
       "      <td>-0.053218</td>\n",
       "      <td>-0.041257</td>\n",
       "      <td>-0.026075</td>\n",
       "      <td>-0.01487</td>\n",
       "      <td>0.009082</td>\n",
       "      <td>0.007339</td>\n",
       "      <td>-0.029132</td>\n",
       "      <td>0.027871</td>\n",
       "      <td>...</td>\n",
       "      <td>-0.012273</td>\n",
       "      <td>-0.015479</td>\n",
       "      <td>0.053129</td>\n",
       "      <td>-0.046036</td>\n",
       "      <td>-0.057196</td>\n",
       "      <td>-0.007903</td>\n",
       "      <td>0.022261</td>\n",
       "      <td>0.056394</td>\n",
       "      <td>-0.016265</td>\n",
       "      <td>-0.022944</td>\n",
       "    </tr>\n",
       "    <tr>\n",
       "      <th>4</th>\n",
       "      <td>0.005381</td>\n",
       "      <td>0.036314</td>\n",
       "      <td>-0.019146</td>\n",
       "      <td>-0.031592</td>\n",
       "      <td>-0.024143</td>\n",
       "      <td>0.030695</td>\n",
       "      <td>0.007248</td>\n",
       "      <td>0.034594</td>\n",
       "      <td>0.112458</td>\n",
       "      <td>-0.001073</td>\n",
       "      <td>...</td>\n",
       "      <td>0.036498</td>\n",
       "      <td>-0.037742</td>\n",
       "      <td>0.092031</td>\n",
       "      <td>0.025662</td>\n",
       "      <td>0.013307</td>\n",
       "      <td>-0.019365</td>\n",
       "      <td>-0.009756</td>\n",
       "      <td>-0.002377</td>\n",
       "      <td>-0.002446</td>\n",
       "      <td>0.000649</td>\n",
       "    </tr>\n",
       "    <tr>\n",
       "      <th>5</th>\n",
       "      <td>-0.013744</td>\n",
       "      <td>-0.01842</td>\n",
       "      <td>-0.016784</td>\n",
       "      <td>-0.026741</td>\n",
       "      <td>-0.009146</td>\n",
       "      <td>0.053791</td>\n",
       "      <td>-0.00713</td>\n",
       "      <td>-0.016797</td>\n",
       "      <td>-0.014981</td>\n",
       "      <td>-0.003083</td>\n",
       "      <td>...</td>\n",
       "      <td>0.0465</td>\n",
       "      <td>0.010202</td>\n",
       "      <td>0.024899</td>\n",
       "      <td>-0.043409</td>\n",
       "      <td>-0.015509</td>\n",
       "      <td>-0.00948</td>\n",
       "      <td>-0.039236</td>\n",
       "      <td>0.093259</td>\n",
       "      <td>-0.024783</td>\n",
       "      <td>-0.021756</td>\n",
       "    </tr>\n",
       "    <tr>\n",
       "      <th>6</th>\n",
       "      <td>0.021041</td>\n",
       "      <td>0.042802</td>\n",
       "      <td>0.026232</td>\n",
       "      <td>-0.016653</td>\n",
       "      <td>-0.039258</td>\n",
       "      <td>-0.010008</td>\n",
       "      <td>-0.029706</td>\n",
       "      <td>-0.073809</td>\n",
       "      <td>0.02464</td>\n",
       "      <td>-0.035714</td>\n",
       "      <td>...</td>\n",
       "      <td>-0.009475</td>\n",
       "      <td>0.013344</td>\n",
       "      <td>0.045238</td>\n",
       "      <td>-0.002397</td>\n",
       "      <td>0.017165</td>\n",
       "      <td>0.041833</td>\n",
       "      <td>0.038843</td>\n",
       "      <td>0.085327</td>\n",
       "      <td>0.002222</td>\n",
       "      <td>0.017733</td>\n",
       "    </tr>\n",
       "    <tr>\n",
       "      <th>7</th>\n",
       "      <td>-0.007469</td>\n",
       "      <td>-0.046432</td>\n",
       "      <td>0.056865</td>\n",
       "      <td>-0.015318</td>\n",
       "      <td>-0.006966</td>\n",
       "      <td>-0.104074</td>\n",
       "      <td>-0.011033</td>\n",
       "      <td>-0.109777</td>\n",
       "      <td>-0.003038</td>\n",
       "      <td>0.022001</td>\n",
       "      <td>...</td>\n",
       "      <td>0.072709</td>\n",
       "      <td>0.074848</td>\n",
       "      <td>0.073811</td>\n",
       "      <td>0.044326</td>\n",
       "      <td>-0.015755</td>\n",
       "      <td>-0.030555</td>\n",
       "      <td>0.038007</td>\n",
       "      <td>0.042641</td>\n",
       "      <td>0.000195</td>\n",
       "      <td>-0.048149</td>\n",
       "    </tr>\n",
       "    <tr>\n",
       "      <th>8</th>\n",
       "      <td>-0.010388</td>\n",
       "      <td>-0.019688</td>\n",
       "      <td>-0.028297</td>\n",
       "      <td>-0.018344</td>\n",
       "      <td>-0.029781</td>\n",
       "      <td>0.051554</td>\n",
       "      <td>-0.029627</td>\n",
       "      <td>-0.000097</td>\n",
       "      <td>-0.022182</td>\n",
       "      <td>-0.011801</td>\n",
       "      <td>...</td>\n",
       "      <td>0.015274</td>\n",
       "      <td>-0.00141</td>\n",
       "      <td>-0.000815</td>\n",
       "      <td>0.018242</td>\n",
       "      <td>-0.004868</td>\n",
       "      <td>-0.012262</td>\n",
       "      <td>0.012665</td>\n",
       "      <td>0.088422</td>\n",
       "      <td>0.01585</td>\n",
       "      <td>-0.010854</td>\n",
       "    </tr>\n",
       "    <tr>\n",
       "      <th>9</th>\n",
       "      <td>0.006293</td>\n",
       "      <td>0.053006</td>\n",
       "      <td>0.018799</td>\n",
       "      <td>0.003201</td>\n",
       "      <td>0.030936</td>\n",
       "      <td>0.010635</td>\n",
       "      <td>0.000098</td>\n",
       "      <td>-0.093317</td>\n",
       "      <td>0.038155</td>\n",
       "      <td>-0.025146</td>\n",
       "      <td>...</td>\n",
       "      <td>0.011447</td>\n",
       "      <td>-0.015274</td>\n",
       "      <td>0.021839</td>\n",
       "      <td>-0.033819</td>\n",
       "      <td>0.019066</td>\n",
       "      <td>0.004246</td>\n",
       "      <td>-0.021452</td>\n",
       "      <td>0.017515</td>\n",
       "      <td>-0.036581</td>\n",
       "      <td>-0.020035</td>\n",
       "    </tr>\n",
       "  </tbody>\n",
       "</table>\n",
       "<p>10 rows × 512 columns</p>\n",
       "</div>"
      ],
      "text/plain": [
       "        0         1         2         3         4         5         6    \\\n",
       "0  0.027204 -0.009218  0.002125 -0.013359 -0.035871 -0.028179  0.008647   \n",
       "1  0.000529  0.023689 -0.015447  0.037842 -0.040462  0.028914 -0.044088   \n",
       "2 -0.035615 -0.043022 -0.005359  0.049703 -0.002438  0.051759 -0.012244   \n",
       "3  0.068148 -0.018358 -0.053218 -0.041257 -0.026075  -0.01487  0.009082   \n",
       "4  0.005381  0.036314 -0.019146 -0.031592 -0.024143  0.030695  0.007248   \n",
       "5 -0.013744  -0.01842 -0.016784 -0.026741 -0.009146  0.053791  -0.00713   \n",
       "6  0.021041  0.042802  0.026232 -0.016653 -0.039258 -0.010008 -0.029706   \n",
       "7 -0.007469 -0.046432  0.056865 -0.015318 -0.006966 -0.104074 -0.011033   \n",
       "8 -0.010388 -0.019688 -0.028297 -0.018344 -0.029781  0.051554 -0.029627   \n",
       "9  0.006293  0.053006  0.018799  0.003201  0.030936  0.010635  0.000098   \n",
       "\n",
       "        7         8         9    ...       502       503       504       505  \\\n",
       "0 -0.099228 -0.044358  0.004814  ... -0.001514  0.034281  0.018179  0.020179   \n",
       "1 -0.091161 -0.027086 -0.019942  ... -0.008059  0.004761  0.015097  0.014305   \n",
       "2 -0.091183 -0.044352 -0.045561  ... -0.033438  0.068569  0.087495  0.028858   \n",
       "3  0.007339 -0.029132  0.027871  ... -0.012273 -0.015479  0.053129 -0.046036   \n",
       "4  0.034594  0.112458 -0.001073  ...  0.036498 -0.037742  0.092031  0.025662   \n",
       "5 -0.016797 -0.014981 -0.003083  ...    0.0465  0.010202  0.024899 -0.043409   \n",
       "6 -0.073809   0.02464 -0.035714  ... -0.009475  0.013344  0.045238 -0.002397   \n",
       "7 -0.109777 -0.003038  0.022001  ...  0.072709  0.074848  0.073811  0.044326   \n",
       "8 -0.000097 -0.022182 -0.011801  ...  0.015274  -0.00141 -0.000815  0.018242   \n",
       "9 -0.093317  0.038155 -0.025146  ...  0.011447 -0.015274  0.021839 -0.033819   \n",
       "\n",
       "        506       507       508       509       510       511  \n",
       "0  -0.03282 -0.015756   0.04405   -0.0145 -0.013435  0.003679  \n",
       "1 -0.031261  0.023781 -0.026447 -0.000316  0.005541  0.018662  \n",
       "2 -0.011912 -0.019002  -0.02467  -0.03114  0.028087   0.00128  \n",
       "3 -0.057196 -0.007903  0.022261  0.056394 -0.016265 -0.022944  \n",
       "4  0.013307 -0.019365 -0.009756 -0.002377 -0.002446  0.000649  \n",
       "5 -0.015509  -0.00948 -0.039236  0.093259 -0.024783 -0.021756  \n",
       "6  0.017165  0.041833  0.038843  0.085327  0.002222  0.017733  \n",
       "7 -0.015755 -0.030555  0.038007  0.042641  0.000195 -0.048149  \n",
       "8 -0.004868 -0.012262  0.012665  0.088422   0.01585 -0.010854  \n",
       "9  0.019066  0.004246 -0.021452  0.017515 -0.036581 -0.020035  \n",
       "\n",
       "[10 rows x 512 columns]"
      ]
     },
     "execution_count": 26,
     "metadata": {},
     "output_type": "execute_result"
    }
   ],
   "source": [
    "df.head(10)"
   ]
  },
  {
   "cell_type": "code",
   "execution_count": 33,
   "id": "5159dcb8-11ec-4992-b506-f145f7182ef1",
   "metadata": {},
   "outputs": [
    {
     "data": {
      "text/plain": [
       "331"
      ]
     },
     "execution_count": 33,
     "metadata": {},
     "output_type": "execute_result"
    }
   ],
   "source": [
    "req_ = math.floor(caption_size / step_size)\n",
    "req_"
   ]
  },
  {
   "cell_type": "code",
   "execution_count": null,
   "id": "51b076b5-5200-4fdd-bb73-0fe590f1bd68",
   "metadata": {},
   "outputs": [],
   "source": [
    "for i in range(req_):\n",
    "    torch.cuda.empty_cache()\n",
    "    texts = [df_train['caption'][x] for x in range(i*step_size,(i+1)*step_size)]\n",
    "    text_tokens = clip.tokenize(df_train['caption'][0:10],truncate=True).cuda()\n",
    "    with torch.no_grad():\n",
    "        text_features = model.encode_text(text_tokens).float()\n",
    "        text_features /= text_features.norm(dim=-1, keepdim=True)\n",
    "    df.loc[i*step_size:(i+1)*step_size-1] = text_features.cpu().numpy()"
   ]
  },
  {
   "cell_type": "code",
   "execution_count": 35,
   "id": "165c0583-93f1-4ac0-ab6c-da35c2701dcc",
   "metadata": {},
   "outputs": [
    {
     "name": "stdout",
     "output_type": "stream",
     "text": [
      "5\n",
      "6\n",
      "7\n",
      "8\n",
      "9\n"
     ]
    }
   ],
   "source": [
    "for i in range(5,10):\n",
    "    print(i)"
   ]
  },
  {
   "cell_type": "code",
   "execution_count": 37,
   "id": "34dc9b68-2ab6-4738-8848-e980d85fc2ed",
   "metadata": {},
   "outputs": [],
   "source": [
    "for i in range(10):\n",
    "    if i % 2 == 0 and i != 0:\n",
    "        print(i)"
   ]
  },
  {
   "cell_type": "code",
   "execution_count": 42,
   "id": "f17934ea-1822-45ca-8446-37a09a5700f4",
   "metadata": {},
   "outputs": [],
   "source": [
    "df.to_csv(\"hi.tsv\",index=False,sep='\\t')"
   ]
  },
  {
   "cell_type": "code",
   "execution_count": 43,
   "id": "2e71f260-3811-4c01-bde8-a2fc82d38b39",
   "metadata": {},
   "outputs": [],
   "source": [
    "df2 = pd.read_csv(\"hi.tsv\", sep='\\t')"
   ]
  },
  {
   "cell_type": "code",
   "execution_count": 44,
   "id": "a80e9627-47ac-48ee-9480-ed970e39a98e",
   "metadata": {
    "editable": true,
    "slideshow": {
     "slide_type": ""
    },
    "tags": []
   },
   "outputs": [
    {
     "data": {
      "text/html": [
       "<div>\n",
       "<style scoped>\n",
       "    .dataframe tbody tr th:only-of-type {\n",
       "        vertical-align: middle;\n",
       "    }\n",
       "\n",
       "    .dataframe tbody tr th {\n",
       "        vertical-align: top;\n",
       "    }\n",
       "\n",
       "    .dataframe thead th {\n",
       "        text-align: right;\n",
       "    }\n",
       "</style>\n",
       "<table border=\"1\" class=\"dataframe\">\n",
       "  <thead>\n",
       "    <tr style=\"text-align: right;\">\n",
       "      <th></th>\n",
       "      <th>0</th>\n",
       "      <th>1</th>\n",
       "      <th>2</th>\n",
       "      <th>3</th>\n",
       "      <th>4</th>\n",
       "      <th>5</th>\n",
       "      <th>6</th>\n",
       "      <th>7</th>\n",
       "      <th>8</th>\n",
       "      <th>9</th>\n",
       "      <th>...</th>\n",
       "      <th>502</th>\n",
       "      <th>503</th>\n",
       "      <th>504</th>\n",
       "      <th>505</th>\n",
       "      <th>506</th>\n",
       "      <th>507</th>\n",
       "      <th>508</th>\n",
       "      <th>509</th>\n",
       "      <th>510</th>\n",
       "      <th>511</th>\n",
       "    </tr>\n",
       "  </thead>\n",
       "  <tbody>\n",
       "    <tr>\n",
       "      <th>0</th>\n",
       "      <td>0.027204</td>\n",
       "      <td>-0.009218</td>\n",
       "      <td>0.002125</td>\n",
       "      <td>-0.013359</td>\n",
       "      <td>-0.035871</td>\n",
       "      <td>-0.028179</td>\n",
       "      <td>0.008647</td>\n",
       "      <td>-0.099228</td>\n",
       "      <td>-0.044358</td>\n",
       "      <td>0.004814</td>\n",
       "      <td>...</td>\n",
       "      <td>-0.001514</td>\n",
       "      <td>0.034281</td>\n",
       "      <td>0.018179</td>\n",
       "      <td>0.020179</td>\n",
       "      <td>-0.032820</td>\n",
       "      <td>-0.015756</td>\n",
       "      <td>0.044050</td>\n",
       "      <td>-0.014500</td>\n",
       "      <td>-0.013435</td>\n",
       "      <td>0.003679</td>\n",
       "    </tr>\n",
       "    <tr>\n",
       "      <th>1</th>\n",
       "      <td>0.000529</td>\n",
       "      <td>0.023689</td>\n",
       "      <td>-0.015447</td>\n",
       "      <td>0.037842</td>\n",
       "      <td>-0.040462</td>\n",
       "      <td>0.028914</td>\n",
       "      <td>-0.044088</td>\n",
       "      <td>-0.091161</td>\n",
       "      <td>-0.027086</td>\n",
       "      <td>-0.019942</td>\n",
       "      <td>...</td>\n",
       "      <td>-0.008059</td>\n",
       "      <td>0.004761</td>\n",
       "      <td>0.015097</td>\n",
       "      <td>0.014305</td>\n",
       "      <td>-0.031261</td>\n",
       "      <td>0.023781</td>\n",
       "      <td>-0.026447</td>\n",
       "      <td>-0.000316</td>\n",
       "      <td>0.005541</td>\n",
       "      <td>0.018662</td>\n",
       "    </tr>\n",
       "    <tr>\n",
       "      <th>2</th>\n",
       "      <td>-0.035615</td>\n",
       "      <td>-0.043022</td>\n",
       "      <td>-0.005359</td>\n",
       "      <td>0.049703</td>\n",
       "      <td>-0.002438</td>\n",
       "      <td>0.051759</td>\n",
       "      <td>-0.012244</td>\n",
       "      <td>-0.091183</td>\n",
       "      <td>-0.044352</td>\n",
       "      <td>-0.045561</td>\n",
       "      <td>...</td>\n",
       "      <td>-0.033438</td>\n",
       "      <td>0.068569</td>\n",
       "      <td>0.087495</td>\n",
       "      <td>0.028858</td>\n",
       "      <td>-0.011912</td>\n",
       "      <td>-0.019002</td>\n",
       "      <td>-0.024670</td>\n",
       "      <td>-0.031140</td>\n",
       "      <td>0.028087</td>\n",
       "      <td>0.001280</td>\n",
       "    </tr>\n",
       "    <tr>\n",
       "      <th>3</th>\n",
       "      <td>0.068148</td>\n",
       "      <td>-0.018358</td>\n",
       "      <td>-0.053218</td>\n",
       "      <td>-0.041257</td>\n",
       "      <td>-0.026075</td>\n",
       "      <td>-0.014870</td>\n",
       "      <td>0.009082</td>\n",
       "      <td>0.007339</td>\n",
       "      <td>-0.029132</td>\n",
       "      <td>0.027871</td>\n",
       "      <td>...</td>\n",
       "      <td>-0.012273</td>\n",
       "      <td>-0.015479</td>\n",
       "      <td>0.053129</td>\n",
       "      <td>-0.046036</td>\n",
       "      <td>-0.057196</td>\n",
       "      <td>-0.007903</td>\n",
       "      <td>0.022261</td>\n",
       "      <td>0.056394</td>\n",
       "      <td>-0.016265</td>\n",
       "      <td>-0.022944</td>\n",
       "    </tr>\n",
       "    <tr>\n",
       "      <th>4</th>\n",
       "      <td>0.005381</td>\n",
       "      <td>0.036314</td>\n",
       "      <td>-0.019146</td>\n",
       "      <td>-0.031592</td>\n",
       "      <td>-0.024143</td>\n",
       "      <td>0.030695</td>\n",
       "      <td>0.007248</td>\n",
       "      <td>0.034594</td>\n",
       "      <td>0.112458</td>\n",
       "      <td>-0.001073</td>\n",
       "      <td>...</td>\n",
       "      <td>0.036498</td>\n",
       "      <td>-0.037742</td>\n",
       "      <td>0.092031</td>\n",
       "      <td>0.025662</td>\n",
       "      <td>0.013307</td>\n",
       "      <td>-0.019365</td>\n",
       "      <td>-0.009756</td>\n",
       "      <td>-0.002377</td>\n",
       "      <td>-0.002446</td>\n",
       "      <td>0.000649</td>\n",
       "    </tr>\n",
       "    <tr>\n",
       "      <th>...</th>\n",
       "      <td>...</td>\n",
       "      <td>...</td>\n",
       "      <td>...</td>\n",
       "      <td>...</td>\n",
       "      <td>...</td>\n",
       "      <td>...</td>\n",
       "      <td>...</td>\n",
       "      <td>...</td>\n",
       "      <td>...</td>\n",
       "      <td>...</td>\n",
       "      <td>...</td>\n",
       "      <td>...</td>\n",
       "      <td>...</td>\n",
       "      <td>...</td>\n",
       "      <td>...</td>\n",
       "      <td>...</td>\n",
       "      <td>...</td>\n",
       "      <td>...</td>\n",
       "      <td>...</td>\n",
       "      <td>...</td>\n",
       "      <td>...</td>\n",
       "    </tr>\n",
       "    <tr>\n",
       "      <th>3318328</th>\n",
       "      <td>NaN</td>\n",
       "      <td>NaN</td>\n",
       "      <td>NaN</td>\n",
       "      <td>NaN</td>\n",
       "      <td>NaN</td>\n",
       "      <td>NaN</td>\n",
       "      <td>NaN</td>\n",
       "      <td>NaN</td>\n",
       "      <td>NaN</td>\n",
       "      <td>NaN</td>\n",
       "      <td>...</td>\n",
       "      <td>NaN</td>\n",
       "      <td>NaN</td>\n",
       "      <td>NaN</td>\n",
       "      <td>NaN</td>\n",
       "      <td>NaN</td>\n",
       "      <td>NaN</td>\n",
       "      <td>NaN</td>\n",
       "      <td>NaN</td>\n",
       "      <td>NaN</td>\n",
       "      <td>NaN</td>\n",
       "    </tr>\n",
       "    <tr>\n",
       "      <th>3318329</th>\n",
       "      <td>NaN</td>\n",
       "      <td>NaN</td>\n",
       "      <td>NaN</td>\n",
       "      <td>NaN</td>\n",
       "      <td>NaN</td>\n",
       "      <td>NaN</td>\n",
       "      <td>NaN</td>\n",
       "      <td>NaN</td>\n",
       "      <td>NaN</td>\n",
       "      <td>NaN</td>\n",
       "      <td>...</td>\n",
       "      <td>NaN</td>\n",
       "      <td>NaN</td>\n",
       "      <td>NaN</td>\n",
       "      <td>NaN</td>\n",
       "      <td>NaN</td>\n",
       "      <td>NaN</td>\n",
       "      <td>NaN</td>\n",
       "      <td>NaN</td>\n",
       "      <td>NaN</td>\n",
       "      <td>NaN</td>\n",
       "    </tr>\n",
       "    <tr>\n",
       "      <th>3318330</th>\n",
       "      <td>NaN</td>\n",
       "      <td>NaN</td>\n",
       "      <td>NaN</td>\n",
       "      <td>NaN</td>\n",
       "      <td>NaN</td>\n",
       "      <td>NaN</td>\n",
       "      <td>NaN</td>\n",
       "      <td>NaN</td>\n",
       "      <td>NaN</td>\n",
       "      <td>NaN</td>\n",
       "      <td>...</td>\n",
       "      <td>NaN</td>\n",
       "      <td>NaN</td>\n",
       "      <td>NaN</td>\n",
       "      <td>NaN</td>\n",
       "      <td>NaN</td>\n",
       "      <td>NaN</td>\n",
       "      <td>NaN</td>\n",
       "      <td>NaN</td>\n",
       "      <td>NaN</td>\n",
       "      <td>NaN</td>\n",
       "    </tr>\n",
       "    <tr>\n",
       "      <th>3318331</th>\n",
       "      <td>NaN</td>\n",
       "      <td>NaN</td>\n",
       "      <td>NaN</td>\n",
       "      <td>NaN</td>\n",
       "      <td>NaN</td>\n",
       "      <td>NaN</td>\n",
       "      <td>NaN</td>\n",
       "      <td>NaN</td>\n",
       "      <td>NaN</td>\n",
       "      <td>NaN</td>\n",
       "      <td>...</td>\n",
       "      <td>NaN</td>\n",
       "      <td>NaN</td>\n",
       "      <td>NaN</td>\n",
       "      <td>NaN</td>\n",
       "      <td>NaN</td>\n",
       "      <td>NaN</td>\n",
       "      <td>NaN</td>\n",
       "      <td>NaN</td>\n",
       "      <td>NaN</td>\n",
       "      <td>NaN</td>\n",
       "    </tr>\n",
       "    <tr>\n",
       "      <th>3318332</th>\n",
       "      <td>NaN</td>\n",
       "      <td>NaN</td>\n",
       "      <td>NaN</td>\n",
       "      <td>NaN</td>\n",
       "      <td>NaN</td>\n",
       "      <td>NaN</td>\n",
       "      <td>NaN</td>\n",
       "      <td>NaN</td>\n",
       "      <td>NaN</td>\n",
       "      <td>NaN</td>\n",
       "      <td>...</td>\n",
       "      <td>NaN</td>\n",
       "      <td>NaN</td>\n",
       "      <td>NaN</td>\n",
       "      <td>NaN</td>\n",
       "      <td>NaN</td>\n",
       "      <td>NaN</td>\n",
       "      <td>NaN</td>\n",
       "      <td>NaN</td>\n",
       "      <td>NaN</td>\n",
       "      <td>NaN</td>\n",
       "    </tr>\n",
       "  </tbody>\n",
       "</table>\n",
       "<p>3318333 rows × 512 columns</p>\n",
       "</div>"
      ],
      "text/plain": [
       "                0         1         2         3         4         5         6  \\\n",
       "0        0.027204 -0.009218  0.002125 -0.013359 -0.035871 -0.028179  0.008647   \n",
       "1        0.000529  0.023689 -0.015447  0.037842 -0.040462  0.028914 -0.044088   \n",
       "2       -0.035615 -0.043022 -0.005359  0.049703 -0.002438  0.051759 -0.012244   \n",
       "3        0.068148 -0.018358 -0.053218 -0.041257 -0.026075 -0.014870  0.009082   \n",
       "4        0.005381  0.036314 -0.019146 -0.031592 -0.024143  0.030695  0.007248   \n",
       "...           ...       ...       ...       ...       ...       ...       ...   \n",
       "3318328       NaN       NaN       NaN       NaN       NaN       NaN       NaN   \n",
       "3318329       NaN       NaN       NaN       NaN       NaN       NaN       NaN   \n",
       "3318330       NaN       NaN       NaN       NaN       NaN       NaN       NaN   \n",
       "3318331       NaN       NaN       NaN       NaN       NaN       NaN       NaN   \n",
       "3318332       NaN       NaN       NaN       NaN       NaN       NaN       NaN   \n",
       "\n",
       "                7         8         9  ...       502       503       504  \\\n",
       "0       -0.099228 -0.044358  0.004814  ... -0.001514  0.034281  0.018179   \n",
       "1       -0.091161 -0.027086 -0.019942  ... -0.008059  0.004761  0.015097   \n",
       "2       -0.091183 -0.044352 -0.045561  ... -0.033438  0.068569  0.087495   \n",
       "3        0.007339 -0.029132  0.027871  ... -0.012273 -0.015479  0.053129   \n",
       "4        0.034594  0.112458 -0.001073  ...  0.036498 -0.037742  0.092031   \n",
       "...           ...       ...       ...  ...       ...       ...       ...   \n",
       "3318328       NaN       NaN       NaN  ...       NaN       NaN       NaN   \n",
       "3318329       NaN       NaN       NaN  ...       NaN       NaN       NaN   \n",
       "3318330       NaN       NaN       NaN  ...       NaN       NaN       NaN   \n",
       "3318331       NaN       NaN       NaN  ...       NaN       NaN       NaN   \n",
       "3318332       NaN       NaN       NaN  ...       NaN       NaN       NaN   \n",
       "\n",
       "              505       506       507       508       509       510       511  \n",
       "0        0.020179 -0.032820 -0.015756  0.044050 -0.014500 -0.013435  0.003679  \n",
       "1        0.014305 -0.031261  0.023781 -0.026447 -0.000316  0.005541  0.018662  \n",
       "2        0.028858 -0.011912 -0.019002 -0.024670 -0.031140  0.028087  0.001280  \n",
       "3       -0.046036 -0.057196 -0.007903  0.022261  0.056394 -0.016265 -0.022944  \n",
       "4        0.025662  0.013307 -0.019365 -0.009756 -0.002377 -0.002446  0.000649  \n",
       "...           ...       ...       ...       ...       ...       ...       ...  \n",
       "3318328       NaN       NaN       NaN       NaN       NaN       NaN       NaN  \n",
       "3318329       NaN       NaN       NaN       NaN       NaN       NaN       NaN  \n",
       "3318330       NaN       NaN       NaN       NaN       NaN       NaN       NaN  \n",
       "3318331       NaN       NaN       NaN       NaN       NaN       NaN       NaN  \n",
       "3318332       NaN       NaN       NaN       NaN       NaN       NaN       NaN  \n",
       "\n",
       "[3318333 rows x 512 columns]"
      ]
     },
     "execution_count": 44,
     "metadata": {},
     "output_type": "execute_result"
    }
   ],
   "source": [
    "df2"
   ]
  },
  {
   "cell_type": "code",
   "execution_count": 47,
   "id": "a0167e75-a06f-43ef-b9de-c16dcbd3150f",
   "metadata": {},
   "outputs": [],
   "source": [
    "name = \"text_embeddings_\"+str(50)+\".tsv\""
   ]
  },
  {
   "cell_type": "code",
   "execution_count": 48,
   "id": "f1e48595-6c47-4c15-98f3-be5accfa8946",
   "metadata": {},
   "outputs": [
    {
     "data": {
      "text/plain": [
       "'text_embeddings_50.tsv'"
      ]
     },
     "execution_count": 48,
     "metadata": {},
     "output_type": "execute_result"
    }
   ],
   "source": [
    "name"
   ]
  },
  {
   "cell_type": "code",
   "execution_count": 49,
   "id": "24573d3b-1073-4797-b118-fc19fba43b4c",
   "metadata": {},
   "outputs": [],
   "source": [
    "df3 = df2[0:10]"
   ]
  },
  {
   "cell_type": "code",
   "execution_count": 50,
   "id": "5e36d479-02e1-407a-b48c-90c768889ea2",
   "metadata": {},
   "outputs": [],
   "source": [
    "df3.to_csv(name,index=False,sep='\\t')"
   ]
  },
  {
   "cell_type": "code",
   "execution_count": 53,
   "id": "2826e5c1-60c3-4bbb-9b70-b91b8aa757b3",
   "metadata": {},
   "outputs": [
    {
     "name": "stdout",
     "output_type": "stream",
     "text": [
      "text_embeddings_50.tsv  saved\n"
     ]
    }
   ],
   "source": [
    "print(name,\"saved\")"
   ]
  },
  {
   "cell_type": "code",
   "execution_count": 54,
   "id": "fc19abd6-b86c-42d0-997c-f50c5f7a30b9",
   "metadata": {
    "editable": true,
    "slideshow": {
     "slide_type": ""
    },
    "tags": []
   },
   "outputs": [
    {
     "name": "stdout",
     "output_type": "stream",
     "text": [
      "step:  10\n"
     ]
    }
   ],
   "source": [
    "print(\"step: \", 10)"
   ]
  },
  {
   "cell_type": "code",
   "execution_count": 13,
   "id": "4d11bf99-ca63-4174-80fc-aa1d23620824",
   "metadata": {
    "editable": true,
    "slideshow": {
     "slide_type": ""
    },
    "tags": []
   },
   "outputs": [],
   "source": [
    "k = text_features.cpu().numpy()"
   ]
  },
  {
   "cell_type": "code",
   "execution_count": 14,
   "id": "44daf15b-5981-420c-87e8-3a31e977da74",
   "metadata": {},
   "outputs": [],
   "source": [
    "np.save(\"data.npy\",k)"
   ]
  },
  {
   "cell_type": "code",
   "execution_count": 15,
   "id": "6e6d16df-0fb1-4624-92e0-9f5c669e73d0",
   "metadata": {},
   "outputs": [],
   "source": [
    "k2 = np.load(\"data.npy\")"
   ]
  },
  {
   "cell_type": "code",
   "execution_count": 20,
   "id": "95f60209-96c7-4248-ae39-2b8dc4888d19",
   "metadata": {},
   "outputs": [],
   "source": [
    "k3 = np.empty([200, 512])"
   ]
  },
  {
   "cell_type": "code",
   "execution_count": 26,
   "id": "eafe18ce-7043-41db-9b34-78741115ecc2",
   "metadata": {},
   "outputs": [],
   "source": [
    "k3[0:100] = k"
   ]
  },
  {
   "cell_type": "code",
   "execution_count": 50,
   "id": "ef940f1b-190f-40ae-9cc1-bf5057a8e038",
   "metadata": {},
   "outputs": [
    {
     "data": {
      "text/plain": [
       "99.99999992153761"
      ]
     },
     "execution_count": 50,
     "metadata": {},
     "output_type": "execute_result"
    }
   ],
   "source": [
    "np.sum(np.eye(100)*(k3[0:100]@k3[0:100].T))"
   ]
  },
  {
   "cell_type": "code",
   "execution_count": 41,
   "id": "c526b459-57e1-4abb-af6c-ffea012212fe",
   "metadata": {},
   "outputs": [
    {
     "data": {
      "text/plain": [
       "array([[ 0.02730669, -0.0092753 ,  0.00209127, ..., -0.01451229,\n",
       "        -0.01340976,  0.00370499],\n",
       "       [ 0.00050453,  0.02365385, -0.01545954, ..., -0.00037364,\n",
       "         0.00554792,  0.01859714]], dtype=float32)"
      ]
     },
     "execution_count": 41,
     "metadata": {},
     "output_type": "execute_result"
    }
   ],
   "source": [
    "k[0:2]"
   ]
  },
  {
   "cell_type": "code",
   "execution_count": 48,
   "id": "db0e9121-64e8-4b75-8d1f-5ef9377e3bb1",
   "metadata": {},
   "outputs": [
    {
     "data": {
      "text/plain": [
       "array([[0.9999999 , 0.55642879, 0.60240958],\n",
       "       [0.55642879, 0.99999988, 0.58610788],\n",
       "       [0.60240958, 0.58610788, 1.00000012]])"
      ]
     },
     "execution_count": 48,
     "metadata": {},
     "output_type": "execute_result"
    }
   ],
   "source": [
    "k3[0:3]@k3[0:3].T"
   ]
  },
  {
   "cell_type": "code",
   "execution_count": 52,
   "id": "c6d170ab-9637-418c-b966-eabb8f440373",
   "metadata": {},
   "outputs": [],
   "source": [
    "embeds = np.load(\"../embeddings/text_embeddings_all.npy\")"
   ]
  },
  {
   "cell_type": "code",
   "execution_count": 61,
   "id": "8c4482b9-c616-449a-b5a4-93d8644ef542",
   "metadata": {},
   "outputs": [
    {
     "data": {
      "text/plain": [
       "1.0000000253689472"
      ]
     },
     "execution_count": 61,
     "metadata": {},
     "output_type": "execute_result"
    }
   ],
   "source": [
    "np.sum(embeds[3318332]*embeds[3318332])"
   ]
  },
  {
   "cell_type": "code",
   "execution_count": 63,
   "id": "858ae1e7-76f5-4cd8-b0de-5fa62d959a51",
   "metadata": {},
   "outputs": [
    {
     "data": {
      "text/plain": [
       "dtype('float64')"
      ]
     },
     "execution_count": 63,
     "metadata": {},
     "output_type": "execute_result"
    }
   ],
   "source": [
    "embeds.dtype"
   ]
  },
  {
   "cell_type": "code",
   "execution_count": 65,
   "id": "3f8ba64f-a465-49ef-9f85-18c890c9a700",
   "metadata": {},
   "outputs": [],
   "source": [
    "embeds2 = embeds.astype('float16')"
   ]
  },
  {
   "cell_type": "code",
   "execution_count": 66,
   "id": "2e422b92-1489-4988-b26d-31989baf293a",
   "metadata": {},
   "outputs": [],
   "source": [
    "np.save(\"/data/cc3m/cc3m_2023/embeddings/text_embeddings.npy\", embeds2)"
   ]
  },
  {
   "cell_type": "code",
   "execution_count": 67,
   "id": "34a3d1d2-0e83-4d09-aba6-bdae5cedb108",
   "metadata": {},
   "outputs": [
    {
     "data": {
      "text/plain": [
       "1.0"
      ]
     },
     "execution_count": 67,
     "metadata": {},
     "output_type": "execute_result"
    }
   ],
   "source": [
    "np.sum(embeds2[3318332]*embeds2[3318332])"
   ]
  },
  {
   "cell_type": "code",
   "execution_count": 68,
   "id": "4a8f147c-6c8c-4b7a-b062-07aae1cd047f",
   "metadata": {},
   "outputs": [],
   "source": [
    "embeds3 = np.load(\"/data/cc3m/cc3m_2023/embeddings/text_embeddings.npy\")"
   ]
  },
  {
   "cell_type": "code",
   "execution_count": 69,
   "id": "b63cbbad-5579-4397-95aa-266f9e3acd53",
   "metadata": {},
   "outputs": [
    {
     "data": {
      "text/plain": [
       "1.0"
      ]
     },
     "execution_count": 69,
     "metadata": {},
     "output_type": "execute_result"
    }
   ],
   "source": [
    "np.sum(embeds3[3318332]*embeds3[3318332])"
   ]
  },
  {
   "cell_type": "code",
   "execution_count": 70,
   "id": "a6012e94-c1c2-44a9-bd2c-3f42d623f805",
   "metadata": {},
   "outputs": [
    {
     "data": {
      "text/plain": [
       "3318333"
      ]
     },
     "execution_count": 70,
     "metadata": {},
     "output_type": "execute_result"
    }
   ],
   "source": [
    "len(embeds3)"
   ]
  },
  {
   "cell_type": "code",
   "execution_count": 73,
   "id": "f5a9065d-87a1-4198-8044-6809cb67a0fa",
   "metadata": {},
   "outputs": [],
   "source": [
    "with open('../imagenet_classes.txt') as f:\n",
    "    lines = f.readlines()"
   ]
  },
  {
   "cell_type": "code",
   "execution_count": 77,
   "id": "1c844268-bd42-4951-98af-ecb2f8c4dc08",
   "metadata": {},
   "outputs": [],
   "source": [
    "with open('../imagenet_classes.txt') as f:\n",
    "    mylist = f.read().splitlines() "
   ]
  },
  {
   "cell_type": "code",
   "execution_count": 82,
   "id": "6b501c98-3932-4e1e-8daa-469c8748f696",
   "metadata": {},
   "outputs": [],
   "source": [
    "b = [\"This is \" + desc for desc in mylist]"
   ]
  },
  {
   "cell_type": "code",
   "execution_count": 84,
   "id": "a0724a47-4761-4833-9a09-009afa2d9183",
   "metadata": {},
   "outputs": [],
   "source": [
    "tic = time.perf_counter()\n",
    "text_tokens = clip.tokenize(b,truncate=True).cuda()\n",
    "with torch.no_grad():\n",
    "    text_features = model.encode_text(text_tokens).float()\n",
    "    text_features /= text_features.norm(dim=-1, keepdim=True)\n",
    "\n",
    "toc = time.perf_counter()"
   ]
  },
  {
   "cell_type": "code",
   "execution_count": 85,
   "id": "edbdf3eb-4889-462d-b46d-945efb2d407a",
   "metadata": {},
   "outputs": [
    {
     "data": {
      "text/plain": [
       "tensor([[ 0.0018, -0.0093, -0.0160,  ..., -0.0267, -0.0020,  0.0072],\n",
       "        [-0.0241, -0.0054,  0.0113,  ..., -0.0109, -0.0155, -0.0141],\n",
       "        [ 0.0003, -0.0222,  0.0135,  ...,  0.0200, -0.0328, -0.0039],\n",
       "        ...,\n",
       "        [ 0.0190,  0.0233,  0.0430,  ..., -0.0046,  0.0035, -0.0034],\n",
       "        [-0.0347,  0.0170,  0.0178,  ..., -0.0266, -0.0231, -0.0003],\n",
       "        [-0.0207,  0.0128,  0.0015,  ..., -0.0016, -0.0293,  0.0247]],\n",
       "       device='cuda:0')"
      ]
     },
     "execution_count": 85,
     "metadata": {},
     "output_type": "execute_result"
    }
   ],
   "source": [
    "text_features"
   ]
  },
  {
   "cell_type": "code",
   "execution_count": 86,
   "id": "496ab441-6b80-4f85-943c-2c0bbc6524f8",
   "metadata": {},
   "outputs": [],
   "source": [
    "embeds4 = np.load(\"/data/cc3m/cc3m_2023/embeddings/imagenet_class_embeddings.npy\")"
   ]
  },
  {
   "cell_type": "code",
   "execution_count": 90,
   "id": "2b0846e5-de35-4253-b6d1-27bc2ce8d647",
   "metadata": {},
   "outputs": [
    {
     "data": {
      "text/plain": [
       "1.0"
      ]
     },
     "execution_count": 90,
     "metadata": {},
     "output_type": "execute_result"
    }
   ],
   "source": [
    "i = 265\n",
    "np.sum(embeds4[i]*embeds4[i])"
   ]
  },
  {
   "cell_type": "code",
   "execution_count": null,
   "id": "37045e36-b6f8-4446-abae-75d8692588dc",
   "metadata": {},
   "outputs": [],
   "source": []
  }
 ],
 "metadata": {
  "kernelspec": {
   "display_name": "virtualenv",
   "language": "python",
   "name": "virtualenv"
  },
  "language_info": {
   "codemirror_mode": {
    "name": "ipython",
    "version": 3
   },
   "file_extension": ".py",
   "mimetype": "text/x-python",
   "name": "python",
   "nbconvert_exporter": "python",
   "pygments_lexer": "ipython3",
   "version": "3.8.10"
  }
 },
 "nbformat": 4,
 "nbformat_minor": 5
}
