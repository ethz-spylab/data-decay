{
 "cells": [
  {
   "cell_type": "code",
   "execution_count": 1,
   "id": "b1aadd8c-f24e-4272-87d4-6cb1dbc84d1f",
   "metadata": {},
   "outputs": [],
   "source": [
    "import pickle\n",
    "import numpy as np\n",
    "import pandas as pd\n",
    "import requests\n",
    "import matplotlib.pyplot as plt\n",
    "import random"
   ]
  },
  {
   "cell_type": "code",
   "execution_count": 4,
   "id": "3ae8ddce-9465-40e2-a8ee-a1b383ee6537",
   "metadata": {},
   "outputs": [],
   "source": [
    "idx23_0 = pickle.load(open(\"/data/cc3m_embed/embed_cc3m_2023/order0.p\",\"rb\"))\n",
    "txt23_0 = pickle.load(open(\"/data/cc3m_embed/embed_cc3m_2023/txt0.p\",\"rb\"))\n",
    "img23_0 = pickle.load(open(\"/data/cc3m_embed/embed_cc3m_2023/img0.p\",\"rb\"))"
   ]
  },
  {
   "cell_type": "code",
   "execution_count": 5,
   "id": "0b99a59f-696c-4480-a66b-7425bd6a61f1",
   "metadata": {},
   "outputs": [],
   "source": [
    "idx23_1 = pickle.load(open(\"/data/cc3m_embed/embed_cc3m_2023/order1.p\",\"rb\"))\n",
    "txt23_1 = pickle.load(open(\"/data/cc3m_embed/embed_cc3m_2023/txt1.p\",\"rb\"))\n",
    "img23_1 = pickle.load(open(\"/data/cc3m_embed/embed_cc3m_2023/img1.p\",\"rb\"))"
   ]
  },
  {
   "cell_type": "code",
   "execution_count": 6,
   "id": "0178e2ac-1448-493b-add1-790bcf7e7d19",
   "metadata": {},
   "outputs": [],
   "source": [
    "df_train = pd.read_csv(\"/data/cc3m/cc3m_2023/Train_GCC-training.tsv\", sep='\\t', names=[\"caption\",\"url\"], usecols=range(0,2))"
   ]
  },
  {
   "cell_type": "code",
   "execution_count": 7,
   "id": "925020b9-6cbf-44f0-a037-f54c248206c8",
   "metadata": {},
   "outputs": [
    {
     "name": "stdout",
     "output_type": "stream",
     "text": [
      "min idx: 2\n",
      "max idx: 3070366\n"
     ]
    }
   ],
   "source": [
    "print(\"min idx:\",min(idx23_0))\n",
    "print(\"max idx:\",max(idx23_0))"
   ]
  },
  {
   "cell_type": "code",
   "execution_count": 8,
   "id": "ccd9b1ce-c649-4497-be37-b8c958127add",
   "metadata": {},
   "outputs": [
    {
     "name": "stdout",
     "output_type": "stream",
     "text": [
      "idx23_0 length: 2560256\n",
      "txt23_0 shape: (2560256, 512)\n",
      "img23_0 shape: (2560256, 512)\n"
     ]
    }
   ],
   "source": [
    "print(\"idx23_0 length:\",len(idx23_0))\n",
    "print(\"txt23_0 shape:\",txt23_0.shape)\n",
    "print(\"img23_0 shape:\",img23_0.shape)"
   ]
  },
  {
   "cell_type": "code",
   "execution_count": 9,
   "id": "6c28423c-281f-49bd-9a75-a4cf29685a1f",
   "metadata": {},
   "outputs": [
    {
     "data": {
      "text/html": [
       "<div>\n",
       "<style scoped>\n",
       "    .dataframe tbody tr th:only-of-type {\n",
       "        vertical-align: middle;\n",
       "    }\n",
       "\n",
       "    .dataframe tbody tr th {\n",
       "        vertical-align: top;\n",
       "    }\n",
       "\n",
       "    .dataframe thead th {\n",
       "        text-align: right;\n",
       "    }\n",
       "</style>\n",
       "<table border=\"1\" class=\"dataframe\">\n",
       "  <thead>\n",
       "    <tr style=\"text-align: right;\">\n",
       "      <th></th>\n",
       "      <th>caption</th>\n",
       "      <th>url</th>\n",
       "    </tr>\n",
       "  </thead>\n",
       "  <tbody>\n",
       "    <tr>\n",
       "      <th>0</th>\n",
       "      <td>a very typical bus station</td>\n",
       "      <td>http://lh6.ggpht.com/-IvRtNLNcG8o/TpFyrudaT6I/...</td>\n",
       "    </tr>\n",
       "    <tr>\n",
       "      <th>1</th>\n",
       "      <td>sierra looked stunning in this top and this sk...</td>\n",
       "      <td>http://78.media.tumblr.com/3b133294bdc7c7784b7...</td>\n",
       "    </tr>\n",
       "    <tr>\n",
       "      <th>2</th>\n",
       "      <td>young confused girl standing in front of a war...</td>\n",
       "      <td>https://media.gettyimages.com/photos/young-con...</td>\n",
       "    </tr>\n",
       "    <tr>\n",
       "      <th>3</th>\n",
       "      <td>interior design of modern living room with fir...</td>\n",
       "      <td>https://thumb1.shutterstock.com/display_pic_wi...</td>\n",
       "    </tr>\n",
       "    <tr>\n",
       "      <th>4</th>\n",
       "      <td>cybernetic scene isolated on white background .</td>\n",
       "      <td>https://thumb1.shutterstock.com/display_pic_wi...</td>\n",
       "    </tr>\n",
       "    <tr>\n",
       "      <th>...</th>\n",
       "      <td>...</td>\n",
       "      <td>...</td>\n",
       "    </tr>\n",
       "    <tr>\n",
       "      <th>3318328</th>\n",
       "      <td>the teams line up for a photo after kick - off</td>\n",
       "      <td>https://i0.wp.com/i.dailymail.co.uk/i/pix/2015...</td>\n",
       "    </tr>\n",
       "    <tr>\n",
       "      <th>3318329</th>\n",
       "      <td>stickers given to delegates at the convention .</td>\n",
       "      <td>http://cdn.radioiowa.com/wp-content/uploads/20...</td>\n",
       "    </tr>\n",
       "    <tr>\n",
       "      <th>3318330</th>\n",
       "      <td>this is my very favourite design that i recent...</td>\n",
       "      <td>https://i.pinimg.com/736x/96/f0/77/96f07728efe...</td>\n",
       "    </tr>\n",
       "    <tr>\n",
       "      <th>3318331</th>\n",
       "      <td>man driving a car through the mountains</td>\n",
       "      <td>https://www.quickenloans.com/blog/wp-content/u...</td>\n",
       "    </tr>\n",
       "    <tr>\n",
       "      <th>3318332</th>\n",
       "      <td>a longtail boat with a flag goes by spectacula...</td>\n",
       "      <td>http://l7.alamy.com/zooms/338c4740f7b2480dbb72...</td>\n",
       "    </tr>\n",
       "  </tbody>\n",
       "</table>\n",
       "<p>3318333 rows × 2 columns</p>\n",
       "</div>"
      ],
      "text/plain": [
       "                                                   caption  \\\n",
       "0                               a very typical bus station   \n",
       "1        sierra looked stunning in this top and this sk...   \n",
       "2        young confused girl standing in front of a war...   \n",
       "3        interior design of modern living room with fir...   \n",
       "4          cybernetic scene isolated on white background .   \n",
       "...                                                    ...   \n",
       "3318328     the teams line up for a photo after kick - off   \n",
       "3318329    stickers given to delegates at the convention .   \n",
       "3318330  this is my very favourite design that i recent...   \n",
       "3318331            man driving a car through the mountains   \n",
       "3318332  a longtail boat with a flag goes by spectacula...   \n",
       "\n",
       "                                                       url  \n",
       "0        http://lh6.ggpht.com/-IvRtNLNcG8o/TpFyrudaT6I/...  \n",
       "1        http://78.media.tumblr.com/3b133294bdc7c7784b7...  \n",
       "2        https://media.gettyimages.com/photos/young-con...  \n",
       "3        https://thumb1.shutterstock.com/display_pic_wi...  \n",
       "4        https://thumb1.shutterstock.com/display_pic_wi...  \n",
       "...                                                    ...  \n",
       "3318328  https://i0.wp.com/i.dailymail.co.uk/i/pix/2015...  \n",
       "3318329  http://cdn.radioiowa.com/wp-content/uploads/20...  \n",
       "3318330  https://i.pinimg.com/736x/96/f0/77/96f07728efe...  \n",
       "3318331  https://www.quickenloans.com/blog/wp-content/u...  \n",
       "3318332  http://l7.alamy.com/zooms/338c4740f7b2480dbb72...  \n",
       "\n",
       "[3318333 rows x 2 columns]"
      ]
     },
     "execution_count": 9,
     "metadata": {},
     "output_type": "execute_result"
    }
   ],
   "source": [
    "df_train"
   ]
  },
  {
   "cell_type": "code",
   "execution_count": 10,
   "id": "dd912b54-e1e2-49ac-9173-05e65dfd4d3b",
   "metadata": {},
   "outputs": [],
   "source": [
    "i=1940906\n",
    "j=1601006"
   ]
  },
  {
   "cell_type": "code",
   "execution_count": 11,
   "id": "345af1a3-7eef-43ad-baad-ed970f9ec652",
   "metadata": {},
   "outputs": [],
   "source": [
    "ii = idx23_0.index(i+1)\n",
    "jj = idx23_0.index(j+1)"
   ]
  },
  {
   "cell_type": "code",
   "execution_count": 12,
   "id": "748ec4b2-ea0d-4961-bf02-c17e66a9065e",
   "metadata": {},
   "outputs": [
    {
     "name": "stdout",
     "output_type": "stream",
     "text": [
      "1618679\n",
      "1349653\n",
      "1940907\n"
     ]
    }
   ],
   "source": [
    "print(ii)\n",
    "print(jj)\n",
    "print(idx23_0[ii])"
   ]
  },
  {
   "cell_type": "code",
   "execution_count": 13,
   "id": "9b4c87a1-7681-4bfc-9da0-68cf67303158",
   "metadata": {},
   "outputs": [
    {
     "name": "stdout",
     "output_type": "stream",
     "text": [
      "caption comparison: 1.0\n",
      "image comparison(embedding): 0.967\n",
      "image comparison: 511\n"
     ]
    }
   ],
   "source": [
    "print(\"caption comparison:\", np.sum(txt23_0[ii] * txt23_0[jj]))\n",
    "print(\"image comparison(embedding):\", np.sum(img23_0[ii]*img23_0[jj])) \n",
    "print(\"image comparison:\", np.sum(img23_0[ii]!=img23_0[jj])) \n",
    "# images are not same, but very similar!"
   ]
  },
  {
   "cell_type": "raw",
   "id": "34e6de54-4de5-4ca8-a4c7-3f03d3fdbf40",
   "metadata": {},
   "source": [
    "rows = open(\"cc3m.tsv\").readlines()\n",
    "print(rows[i], rows[j])\n",
    "#Thats what was shared on spaces, but as we can see the captions do not match. Instead we need to go for i-1, j-1"
   ]
  },
  {
   "cell_type": "code",
   "execution_count": 14,
   "id": "2a84e82e-3b02-45c0-a940-66e048f7e5e0",
   "metadata": {},
   "outputs": [
    {
     "name": "stdout",
     "output_type": "stream",
     "text": [
      "holiday written in the sand\thttp://www.colinaclub.com/img/holiday.jpg\n",
      " a simple floral arrangement of white and black flowers in a simple white vase .\thttps://lifebeautifulmagazine.com/images/spring/spring12/_md/spring12_table6.jpg\n",
      "\n"
     ]
    }
   ],
   "source": [
    "rows = open(\"cc3m/cc3m_2023/Train_GCC-training.tsv\").readlines()\n",
    "print(rows[i], rows[j])"
   ]
  },
  {
   "cell_type": "code",
   "execution_count": 15,
   "id": "e3bca911-b09a-498b-b5d6-5ff3b4197b79",
   "metadata": {},
   "outputs": [
    {
     "name": "stdout",
     "output_type": "stream",
     "text": [
      "holiday written in the sand\n",
      "a simple floral arrangement of white and black flowers in a simple white vase .\n"
     ]
    }
   ],
   "source": [
    "print(df_train['caption'][i])\n",
    "print(df_train['caption'][j])"
   ]
  },
  {
   "cell_type": "code",
   "execution_count": 16,
   "id": "5428a35d-2708-4917-b7b7-34b852f95e3a",
   "metadata": {},
   "outputs": [
    {
     "name": "stdout",
     "output_type": "stream",
     "text": [
      "# holds off ice hockey left winger # 23 after losing his stick during a game .\n",
      "# holds off ice hockey left winger # 23 after losing his stick during a game .\n"
     ]
    }
   ],
   "source": [
    "print(df_train['caption'][i-1])\n",
    "print(df_train['caption'][j-1])"
   ]
  },
  {
   "cell_type": "code",
   "execution_count": 17,
   "id": "af5510a0-164f-43cb-ae4b-c1f84b59ee2a",
   "metadata": {},
   "outputs": [
    {
     "name": "stdout",
     "output_type": "stream",
     "text": [
      "https://media.gettyimages.com/photos/dalton-prout-of-the-springfield-falcons-holds-off-john-persson-of-the-picture-id159795291\n",
      "https://media.gettyimages.com/photos/dalton-prout-of-the-springfield-falcons-holds-off-john-persson-of-the-picture-id159795291?k=6&m=159795291&s=612x612&w=0&h=ZjJ7JvqLy97yrYtt5vQ4sdEfgaaTFjfQvX_Y0L1jj74=\n"
     ]
    }
   ],
   "source": [
    "print(df_train['url'][i-1])\n",
    "print(df_train['url'][j-1])\n",
    "#As we can see images are almost same. The former is a bit larger(scaled up kind of) and has watermark, but both former and latter depict ...\n",
    "#same scene!"
   ]
  },
  {
   "cell_type": "code",
   "execution_count": 18,
   "id": "3f8e0139-38b2-4a0a-9920-3787167d3283",
   "metadata": {},
   "outputs": [
    {
     "name": "stdout",
     "output_type": "stream",
     "text": [
      "chosen duplicated caption: property image # - 5 to 20 bedroom\n",
      "indexes of that caption: Index([4723, 292325, 506932, 598121, 847323, 1499942, 3047811, 3236324], dtype='int64')\n",
      "comparing with  2 th index:  1.0\n",
      "comparing with  3 th index:  1.0\n",
      "comparing with  4 th index:  1.0\n",
      "comparing with  5 th index:  1.0\n",
      "comparing with  6 th index:  1.0\n"
     ]
    },
    {
     "ename": "ValueError",
     "evalue": "3047813 is not in list",
     "output_type": "error",
     "traceback": [
      "\u001b[0;31m---------------------------------------------------------------------------\u001b[0m",
      "\u001b[0;31mValueError\u001b[0m                                Traceback (most recent call last)",
      "Cell \u001b[0;32mIn[18], line 11\u001b[0m\n\u001b[1;32m      8\u001b[0m \u001b[38;5;66;03m#When finding the position of i in idx23_0, we searched for i+1. The indexes we have are already 1 less than i's ...\u001b[39;00m\n\u001b[1;32m      9\u001b[0m \u001b[38;5;66;03m#so we now need to search for indexes + 2!\u001b[39;00m\n\u001b[1;32m     10\u001b[0m \u001b[38;5;28;01mfor\u001b[39;00m k \u001b[38;5;129;01min\u001b[39;00m \u001b[38;5;28mrange\u001b[39m(\u001b[38;5;241m1\u001b[39m,\u001b[38;5;28mlen\u001b[39m(indexes)):\n\u001b[0;32m---> 11\u001b[0m     \u001b[38;5;28mprint\u001b[39m(\u001b[38;5;124m\"\u001b[39m\u001b[38;5;124mcomparing with \u001b[39m\u001b[38;5;124m\"\u001b[39m,k\u001b[38;5;241m+\u001b[39m\u001b[38;5;241m1\u001b[39m,\u001b[38;5;124m\"\u001b[39m\u001b[38;5;124mth index: \u001b[39m\u001b[38;5;124m\"\u001b[39m,np\u001b[38;5;241m.\u001b[39msum(txt23_0[idx23_0\u001b[38;5;241m.\u001b[39mindex(indexes[\u001b[38;5;241m0\u001b[39m]\u001b[38;5;241m+\u001b[39m\u001b[38;5;241m2\u001b[39m)] \u001b[38;5;241m*\u001b[39m txt23_0[\u001b[43midx23_0\u001b[49m\u001b[38;5;241;43m.\u001b[39;49m\u001b[43mindex\u001b[49m\u001b[43m(\u001b[49m\u001b[43mindexes\u001b[49m\u001b[43m[\u001b[49m\u001b[43mk\u001b[49m\u001b[43m]\u001b[49m\u001b[38;5;241;43m+\u001b[39;49m\u001b[38;5;241;43m2\u001b[39;49m\u001b[43m)\u001b[49m]))\n",
      "\u001b[0;31mValueError\u001b[0m: 3047813 is not in list"
     ]
    }
   ],
   "source": [
    "#Let's find some other matching captions to make sure we understand how indexes work\n",
    "#Find the duplicated captions and pick the first one\n",
    "cpt_num = 1893\n",
    "cpt = df_train[df_train.duplicated(subset=['caption'],keep=False)]['caption'].iloc[cpt_num]\n",
    "print(\"chosen duplicated caption:\",cpt)\n",
    "indexes = df_train[df_train['caption'] == cpt].index\n",
    "print(\"indexes of that caption:\",indexes)\n",
    "#When finding the position of i in idx23_0, we searched for i+1. The indexes we have are already 1 less than i's ...\n",
    "#so we now need to search for indexes + 2!\n",
    "for k in range(1,len(indexes)):\n",
    "    print(\"comparing with \",k+1,\"th index: \",np.sum(txt23_0[idx23_0.index(indexes[0]+2)] * txt23_0[idx23_0.index(indexes[k]+2)]))"
   ]
  },
  {
   "cell_type": "code",
   "execution_count": 19,
   "id": "84271579-897e-47b6-b4a8-9398d871f99a",
   "metadata": {},
   "outputs": [
    {
     "data": {
      "text/html": [
       "<div>\n",
       "<style scoped>\n",
       "    .dataframe tbody tr th:only-of-type {\n",
       "        vertical-align: middle;\n",
       "    }\n",
       "\n",
       "    .dataframe tbody tr th {\n",
       "        vertical-align: top;\n",
       "    }\n",
       "\n",
       "    .dataframe thead th {\n",
       "        text-align: right;\n",
       "    }\n",
       "</style>\n",
       "<table border=\"1\" class=\"dataframe\">\n",
       "  <thead>\n",
       "    <tr style=\"text-align: right;\">\n",
       "      <th></th>\n",
       "      <th>caption</th>\n",
       "      <th>url</th>\n",
       "    </tr>\n",
       "  </thead>\n",
       "  <tbody>\n",
       "    <tr>\n",
       "      <th>4723</th>\n",
       "      <td>property image # - 5 to 20 bedroom</td>\n",
       "      <td>https://odis.homeaway.com/odis/listing/642907a...</td>\n",
       "    </tr>\n",
       "    <tr>\n",
       "      <th>292325</th>\n",
       "      <td>property image # - 5 to 20 bedroom</td>\n",
       "      <td>https://odis.homeaway.com/odis/listing/a1f4479...</td>\n",
       "    </tr>\n",
       "    <tr>\n",
       "      <th>506932</th>\n",
       "      <td>property image # - 5 to 20 bedroom</td>\n",
       "      <td>https://odis.homeaway.com/odis/listing/943cd29...</td>\n",
       "    </tr>\n",
       "    <tr>\n",
       "      <th>598121</th>\n",
       "      <td>property image # - 5 to 20 bedroom</td>\n",
       "      <td>https://odis.homeaway.com/odis/listing/e1d003c...</td>\n",
       "    </tr>\n",
       "    <tr>\n",
       "      <th>847323</th>\n",
       "      <td>property image # - 5 to 20 bedroom</td>\n",
       "      <td>https://odis.homeaway.com/odis/listing/beac924...</td>\n",
       "    </tr>\n",
       "    <tr>\n",
       "      <th>1499942</th>\n",
       "      <td>property image # - 5 to 20 bedroom</td>\n",
       "      <td>https://odis.homeaway.com/odis/listing/a57ddc0...</td>\n",
       "    </tr>\n",
       "    <tr>\n",
       "      <th>3047811</th>\n",
       "      <td>property image # - 5 to 20 bedroom</td>\n",
       "      <td>https://odis.homeaway.com/odis/listing/a7b26cf...</td>\n",
       "    </tr>\n",
       "    <tr>\n",
       "      <th>3236324</th>\n",
       "      <td>property image # - 5 to 20 bedroom</td>\n",
       "      <td>https://odis.homeaway.com/odis/listing/4e88cb4...</td>\n",
       "    </tr>\n",
       "  </tbody>\n",
       "</table>\n",
       "</div>"
      ],
      "text/plain": [
       "                                    caption  \\\n",
       "4723     property image # - 5 to 20 bedroom   \n",
       "292325   property image # - 5 to 20 bedroom   \n",
       "506932   property image # - 5 to 20 bedroom   \n",
       "598121   property image # - 5 to 20 bedroom   \n",
       "847323   property image # - 5 to 20 bedroom   \n",
       "1499942  property image # - 5 to 20 bedroom   \n",
       "3047811  property image # - 5 to 20 bedroom   \n",
       "3236324  property image # - 5 to 20 bedroom   \n",
       "\n",
       "                                                       url  \n",
       "4723     https://odis.homeaway.com/odis/listing/642907a...  \n",
       "292325   https://odis.homeaway.com/odis/listing/a1f4479...  \n",
       "506932   https://odis.homeaway.com/odis/listing/943cd29...  \n",
       "598121   https://odis.homeaway.com/odis/listing/e1d003c...  \n",
       "847323   https://odis.homeaway.com/odis/listing/beac924...  \n",
       "1499942  https://odis.homeaway.com/odis/listing/a57ddc0...  \n",
       "3047811  https://odis.homeaway.com/odis/listing/a7b26cf...  \n",
       "3236324  https://odis.homeaway.com/odis/listing/4e88cb4...  "
      ]
     },
     "execution_count": 19,
     "metadata": {},
     "output_type": "execute_result"
    }
   ],
   "source": [
    "df_train[df_train['caption']==cpt]"
   ]
  },
  {
   "cell_type": "code",
   "execution_count": 21,
   "id": "6e020023-8c8b-4b31-ade2-6a76264dc278",
   "metadata": {},
   "outputs": [
    {
     "data": {
      "text/plain": [
       "'https://odis.homeaway.com/odis/listing/a7b26cfa-789a-43fb-9d77-9cb0983d05f8.c10.jpg'"
      ]
     },
     "execution_count": 21,
     "metadata": {},
     "output_type": "execute_result"
    }
   ],
   "source": [
    "#Turns out url is no longer accessible!\n",
    "df_train['url'][3047811]"
   ]
  },
  {
   "cell_type": "code",
   "execution_count": 22,
   "id": "94b2f767-6e49-4a2c-a24c-cf5ef212600a",
   "metadata": {},
   "outputs": [],
   "source": [
    "#I realized some url actually return an image but not included in order"
   ]
  },
  {
   "cell_type": "code",
   "execution_count": 23,
   "id": "21d33691-d44e-4682-8ee9-76d42c0b41da",
   "metadata": {},
   "outputs": [
    {
     "data": {
      "text/plain": [
       "3070366"
      ]
     },
     "execution_count": 23,
     "metadata": {},
     "output_type": "execute_result"
    }
   ],
   "source": [
    "max_idx23_0 = max(idx23_0)\n",
    "max_idx23_0"
   ]
  },
  {
   "cell_type": "code",
   "execution_count": 25,
   "id": "4df8f627-cf92-43ac-9dc1-23a36cb4e50d",
   "metadata": {},
   "outputs": [
    {
     "name": "stdout",
     "output_type": "stream",
     "text": [
      "589\n",
      "38881\n"
     ]
    }
   ],
   "source": [
    "##Check if they are in order1. They are!\n",
    "print(idx23_1.index(max_idx23_0+91))\n",
    "print(idx23_1.index(max_idx23_0+12345))"
   ]
  },
  {
   "cell_type": "code",
   "execution_count": 26,
   "id": "39fc56ed-b460-46f8-bb8f-1db872df3ad9",
   "metadata": {},
   "outputs": [
    {
     "name": "stdout",
     "output_type": "stream",
     "text": [
      "9375\n"
     ]
    },
    {
     "data": {
      "text/plain": [
       "'https://i.pinimg.com/736x/7e/ab/b4/7eabb4c8b2aaa5bce1be9c857826f8fd--film-icon-marlon-brando.jpg'"
      ]
     },
     "execution_count": 26,
     "metadata": {},
     "output_type": "execute_result"
    }
   ],
   "source": [
    "x = 3041366 + 12345\n",
    "print(idx23_1.index(x))\n",
    "df_train['url'][x-2]"
   ]
  },
  {
   "cell_type": "code",
   "execution_count": 27,
   "id": "af23bf43-3e3d-4b09-bb02-194687116563",
   "metadata": {},
   "outputs": [],
   "source": [
    "#Now look at 2018 data and compare it with current data"
   ]
  },
  {
   "cell_type": "code",
   "execution_count": 28,
   "id": "d9de3b8d-8d4f-400f-ba35-f1f0faa975c5",
   "metadata": {},
   "outputs": [],
   "source": [
    "idx18_0 = pickle.load(open(\"/data/cc3m_embed/embed_cc3m_2018_b/order0.p\",\"rb\"))\n",
    "txt18_0 = pickle.load(open(\"/data/cc3m_embed/embed_cc3m_2018_b/txt0.p\",\"rb\"))\n",
    "img18_0 = pickle.load(open(\"../../data/cc3m_embed/embed_cc3m_2018_b/img0.p\",\"rb\"))"
   ]
  },
  {
   "cell_type": "code",
   "execution_count": 29,
   "id": "90cca74f-647c-46ad-9426-de7247969e72",
   "metadata": {},
   "outputs": [],
   "source": [
    "idx18_1 = pickle.load(open(\"/data/cc3m_embed/embed_cc3m_2018_b/order1.p\",\"rb\"))\n",
    "txt18_1 = pickle.load(open(\"/data/cc3m_embed/embed_cc3m_2018_b/txt1.p\",\"rb\"))\n",
    "img18_1 = pickle.load(open(\"/data/cc3m_embed/embed_cc3m_2018_b/img1.p\",\"rb\"))"
   ]
  },
  {
   "cell_type": "code",
   "execution_count": 30,
   "id": "a01f0ae5-59cc-4fa2-a67f-4baa73980ebf",
   "metadata": {},
   "outputs": [
    {
     "name": "stdout",
     "output_type": "stream",
     "text": [
      "idx18_0 len:  2560256\n",
      "idx18_1 len:  758013\n"
     ]
    }
   ],
   "source": [
    "print(\"idx18_0 len: \", len(idx18_0))\n",
    "print(\"idx18_1 len: \", len(idx18_1))"
   ]
  },
  {
   "cell_type": "code",
   "execution_count": 31,
   "id": "4d4fda33-69ba-4863-86f1-2f92c3a73e0d",
   "metadata": {},
   "outputs": [
    {
     "name": "stdout",
     "output_type": "stream",
     "text": [
      "min idx18_0: 2\n",
      "max idx18_0: 2599696\n",
      "min idx18_1: 2560001\n",
      "max idx18_1: 3318334\n"
     ]
    }
   ],
   "source": [
    "print(\"min idx18_0:\",min(idx18_0))\n",
    "print(\"max idx18_0:\",max(idx18_0))\n",
    "print(\"min idx18_1:\",min(idx18_1))\n",
    "print(\"max idx18_1:\",max(idx18_1))"
   ]
  },
  {
   "cell_type": "code",
   "execution_count": 32,
   "id": "4253f74a-1f45-44df-be96-edd64fdf8447",
   "metadata": {},
   "outputs": [
    {
     "name": "stdout",
     "output_type": "stream",
     "text": [
      "99.99807132075051\n",
      "64\n"
     ]
    }
   ],
   "source": [
    "#2018 data has nearly all the images\n",
    "print((len(idx18_0)+len(idx18_1))/len(df_train)*100)\n",
    "print(len(df_train) - (len(idx18_0)+len(idx18_1)))"
   ]
  },
  {
   "cell_type": "code",
   "execution_count": 34,
   "id": "ae1c6b3a-0f07-4afb-a1cd-d4273f45fe61",
   "metadata": {},
   "outputs": [],
   "source": [
    "idx18 = idx18_0 + idx18_1\n",
    "txt18 = np.concatenate((txt18_0, txt18_1), axis=0)\n",
    "img18 = np.concatenate((img18_0, img18_1), axis=0)\n",
    "idx23 = idx23_0 + idx23_1\n",
    "txt23 = np.concatenate((txt23_0, txt23_1), axis=0)\n",
    "img23 = np.concatenate((img23_0, img23_1), axis=0)"
   ]
  },
  {
   "cell_type": "code",
   "execution_count": 35,
   "id": "b1955446-04b4-4b6e-87fb-fd75f3f6782e",
   "metadata": {},
   "outputs": [
    {
     "name": "stdout",
     "output_type": "stream",
     "text": [
      "18 without duplicates:  99.98237066623513\n",
      "#ids duplicated:  513\n",
      "tot # of duplications:  1034.0\n"
     ]
    }
   ],
   "source": [
    "#But it has some duplicates\n",
    "count_idx18 = np.zeros(max(idx18)+1)\n",
    "for i in range(len(idx18)):\n",
    "    count_idx18[idx18[i]] += 1\n",
    "print(\"18 without duplicates: \", np.sum(count_idx18 > 0.5)/len(df_train)*100)\n",
    "print(\"#ids duplicated: \",np.sum(count_idx18>1.1))\n",
    "print(\"tot # of duplications: \", np.sum(count_idx18[count_idx18>1.1]))"
   ]
  },
  {
   "cell_type": "code",
   "execution_count": 36,
   "id": "f0efc6e8",
   "metadata": {},
   "outputs": [
    {
     "data": {
      "text/plain": [
       "84.13983768355979"
      ]
     },
     "execution_count": 36,
     "metadata": {},
     "output_type": "execute_result"
    }
   ],
   "source": [
    "#2018 data has nearly 84% of images\n",
    "(len(idx23_0)+len(idx23_1))/len(df_train)*100"
   ]
  },
  {
   "cell_type": "code",
   "execution_count": 37,
   "id": "45a9ea8e-6c42-46ef-9c3b-a1534d2f4309",
   "metadata": {},
   "outputs": [
    {
     "data": {
      "text/plain": [
       "465"
      ]
     },
     "execution_count": 37,
     "metadata": {},
     "output_type": "execute_result"
    }
   ],
   "source": [
    "#some indexes are in 2023 data but not in 2018!\n",
    "missing_indexes = list(set(idx23) - set(idx18))\n",
    "len(missing_indexes)"
   ]
  },
  {
   "cell_type": "code",
   "execution_count": 38,
   "id": "e55a013f-eb6f-4a5b-bbff-c61e54942bd1",
   "metadata": {},
   "outputs": [
    {
     "name": "stdout",
     "output_type": "stream",
     "text": [
      "3134\n",
      "13416\n",
      "1.0\n",
      "0.9775\n"
     ]
    }
   ],
   "source": [
    "x = 987\n",
    "print(idx23_0.index(x))\n",
    "print(idx18_0.index(x))\n",
    "print(np.sum(txt23_0[idx23_0.index(x)] * txt18_0[idx18_0.index(x)]))\n",
    "print(np.sum(img23_0[idx23_0.index(x)] * img18_0[idx18_0.index(x)]))"
   ]
  },
  {
   "cell_type": "code",
   "execution_count": 39,
   "id": "6fce9565-6ee1-4181-85e3-b0f182984d8d",
   "metadata": {},
   "outputs": [
    {
     "name": "stdout",
     "output_type": "stream",
     "text": [
      "1.0\n",
      "1.0\n"
     ]
    }
   ],
   "source": [
    "print(np.sum(img23_0[idx23_0.index(x)] * img23_0[idx23_0.index(x)]))\n",
    "print(np.sum(img18_0[idx18_0.index(x)] * img18_0[idx18_0.index(x)]))"
   ]
  },
  {
   "cell_type": "code",
   "execution_count": 127,
   "id": "4201abb5-1df7-43c0-953d-e0e729a10328",
   "metadata": {},
   "outputs": [
    {
     "name": "stdout",
     "output_type": "stream",
     "text": [
      "step:  50000\n",
      "step:  100000\n",
      "step:  150000\n",
      "step:  200000\n",
      "step:  250000\n",
      "step:  300000\n",
      "step:  350000\n",
      "step:  400000\n",
      "step:  450000\n",
      "step:  500000\n",
      "step:  550000\n",
      "step:  600000\n",
      "step:  650000\n",
      "step:  700000\n",
      "step:  750000\n",
      "step:  800000\n",
      "step:  850000\n",
      "step:  900000\n",
      "step:  950000\n",
      "step:  1000000\n",
      "step:  1050000\n",
      "step:  1100000\n",
      "step:  1150000\n",
      "step:  1200000\n",
      "step:  1250000\n",
      "step:  1300000\n",
      "step:  1350000\n",
      "step:  1400000\n",
      "step:  1450000\n",
      "step:  1500000\n",
      "step:  1550000\n",
      "step:  1600000\n",
      "step:  1650000\n",
      "step:  1700000\n",
      "step:  1750000\n",
      "step:  1800000\n",
      "step:  1850000\n",
      "step:  1900000\n",
      "step:  1950000\n",
      "step:  2000000\n",
      "step:  2050000\n",
      "step:  2100000\n",
      "step:  2150000\n",
      "step:  2200000\n",
      "step:  2250000\n",
      "step:  2300000\n",
      "step:  2350000\n",
      "step:  2400000\n",
      "step:  2450000\n",
      "step:  2500000\n",
      "step:  2550000\n",
      "step:  2600000\n",
      "step:  2650000\n",
      "step:  2700000\n",
      "step:  2750000\n",
      "completed\n"
     ]
    }
   ],
   "source": [
    "inv_idx18 = np.zeros(max(idx18)+1)\n",
    "for i in range(len(idx18)):\n",
    "    inv_idx18[idx18[i]] = i\n",
    "\n",
    "missing_indexes = list(set(idx23) - set(idx18))\n",
    "\n",
    "save_freq = 50000\n",
    "\n",
    "with open('comparison_2.txt', 'a') as f:\n",
    "    for i in range(len(idx23)):\n",
    "        idx_c = idx23[i]\n",
    "        if idx_c in missing_indexes:\n",
    "            continue\n",
    "        txt_c = np.sum(txt23[i]*txt18[int(inv_idx18[idx_c])])\n",
    "        img_c = np.sum(img23[i]*img18[int(inv_idx18[idx_c])])\n",
    "        f.write(str(i)+','+str(idx_c)+','+str(txt_c)+','+str(img_c)+'\\n')\n",
    "        if i % save_freq == 0 and i != 0:\n",
    "            print(\"step: \",i)\n",
    "print(\"completed\")"
   ]
  },
  {
   "cell_type": "code",
   "execution_count": 40,
   "id": "260326e5-87df-4a44-b5a9-1b6499ded4a5",
   "metadata": {},
   "outputs": [],
   "source": [
    "deneme = pd.read_csv(\"comparison_new.txt\", sep=',',names=['idx','caption','image'])"
   ]
  },
  {
   "cell_type": "code",
   "execution_count": 41,
   "id": "f4909478-9a95-49e2-9991-013d5fe6de7a",
   "metadata": {},
   "outputs": [
    {
     "data": {
      "text/html": [
       "<div>\n",
       "<style scoped>\n",
       "    .dataframe tbody tr th:only-of-type {\n",
       "        vertical-align: middle;\n",
       "    }\n",
       "\n",
       "    .dataframe tbody tr th {\n",
       "        vertical-align: top;\n",
       "    }\n",
       "\n",
       "    .dataframe thead th {\n",
       "        text-align: right;\n",
       "    }\n",
       "</style>\n",
       "<table border=\"1\" class=\"dataframe\">\n",
       "  <thead>\n",
       "    <tr style=\"text-align: right;\">\n",
       "      <th></th>\n",
       "      <th>idx</th>\n",
       "      <th>caption</th>\n",
       "      <th>image</th>\n",
       "    </tr>\n",
       "  </thead>\n",
       "  <tbody>\n",
       "    <tr>\n",
       "      <th>0</th>\n",
       "      <td>24</td>\n",
       "      <td>1.0</td>\n",
       "      <td>0.9710</td>\n",
       "    </tr>\n",
       "    <tr>\n",
       "      <th>1</th>\n",
       "      <td>2</td>\n",
       "      <td>1.0</td>\n",
       "      <td>0.9526</td>\n",
       "    </tr>\n",
       "    <tr>\n",
       "      <th>2</th>\n",
       "      <td>25</td>\n",
       "      <td>1.0</td>\n",
       "      <td>0.9670</td>\n",
       "    </tr>\n",
       "    <tr>\n",
       "      <th>3</th>\n",
       "      <td>38</td>\n",
       "      <td>1.0</td>\n",
       "      <td>0.8540</td>\n",
       "    </tr>\n",
       "    <tr>\n",
       "      <th>4</th>\n",
       "      <td>6</td>\n",
       "      <td>1.0</td>\n",
       "      <td>0.9507</td>\n",
       "    </tr>\n",
       "    <tr>\n",
       "      <th>...</th>\n",
       "      <td>...</td>\n",
       "      <td>...</td>\n",
       "      <td>...</td>\n",
       "    </tr>\n",
       "    <tr>\n",
       "      <th>2792035</th>\n",
       "      <td>3309990</td>\n",
       "      <td>1.0</td>\n",
       "      <td>0.9140</td>\n",
       "    </tr>\n",
       "    <tr>\n",
       "      <th>2792036</th>\n",
       "      <td>3309968</td>\n",
       "      <td>1.0</td>\n",
       "      <td>0.8555</td>\n",
       "    </tr>\n",
       "    <tr>\n",
       "      <th>2792037</th>\n",
       "      <td>3309953</td>\n",
       "      <td>1.0</td>\n",
       "      <td>0.9540</td>\n",
       "    </tr>\n",
       "    <tr>\n",
       "      <th>2792038</th>\n",
       "      <td>3309998</td>\n",
       "      <td>1.0</td>\n",
       "      <td>0.9350</td>\n",
       "    </tr>\n",
       "    <tr>\n",
       "      <th>2792039</th>\n",
       "      <td>3310000</td>\n",
       "      <td>1.0</td>\n",
       "      <td>0.9546</td>\n",
       "    </tr>\n",
       "  </tbody>\n",
       "</table>\n",
       "<p>2791575 rows × 3 columns</p>\n",
       "</div>"
      ],
      "text/plain": [
       "             idx  caption   image\n",
       "0             24      1.0  0.9710\n",
       "1              2      1.0  0.9526\n",
       "2             25      1.0  0.9670\n",
       "3             38      1.0  0.8540\n",
       "4              6      1.0  0.9507\n",
       "...          ...      ...     ...\n",
       "2792035  3309990      1.0  0.9140\n",
       "2792036  3309968      1.0  0.8555\n",
       "2792037  3309953      1.0  0.9540\n",
       "2792038  3309998      1.0  0.9350\n",
       "2792039  3310000      1.0  0.9546\n",
       "\n",
       "[2791575 rows x 3 columns]"
      ]
     },
     "execution_count": 41,
     "metadata": {},
     "output_type": "execute_result"
    }
   ],
   "source": [
    "deneme"
   ]
  },
  {
   "cell_type": "code",
   "execution_count": 42,
   "id": "1ac8473f-35d4-4588-92c4-f7a5a3797d53",
   "metadata": {},
   "outputs": [],
   "source": [
    "deneme2 = pd.read_csv(\"comparison_2.txt\", sep=',',names=['idx','caption','image'])"
   ]
  },
  {
   "cell_type": "code",
   "execution_count": 43,
   "id": "02977580-36d4-4a96-bc1b-0924899fba2b",
   "metadata": {},
   "outputs": [
    {
     "data": {
      "text/html": [
       "<div>\n",
       "<style scoped>\n",
       "    .dataframe tbody tr th:only-of-type {\n",
       "        vertical-align: middle;\n",
       "    }\n",
       "\n",
       "    .dataframe tbody tr th {\n",
       "        vertical-align: top;\n",
       "    }\n",
       "\n",
       "    .dataframe thead th {\n",
       "        text-align: right;\n",
       "    }\n",
       "</style>\n",
       "<table border=\"1\" class=\"dataframe\">\n",
       "  <thead>\n",
       "    <tr style=\"text-align: right;\">\n",
       "      <th></th>\n",
       "      <th>idx</th>\n",
       "      <th>caption</th>\n",
       "      <th>image</th>\n",
       "    </tr>\n",
       "  </thead>\n",
       "  <tbody>\n",
       "    <tr>\n",
       "      <th>0</th>\n",
       "      <td>24</td>\n",
       "      <td>1.0</td>\n",
       "      <td>0.9710</td>\n",
       "    </tr>\n",
       "    <tr>\n",
       "      <th>1</th>\n",
       "      <td>2</td>\n",
       "      <td>1.0</td>\n",
       "      <td>0.9526</td>\n",
       "    </tr>\n",
       "    <tr>\n",
       "      <th>2</th>\n",
       "      <td>25</td>\n",
       "      <td>1.0</td>\n",
       "      <td>0.9670</td>\n",
       "    </tr>\n",
       "    <tr>\n",
       "      <th>3</th>\n",
       "      <td>38</td>\n",
       "      <td>1.0</td>\n",
       "      <td>0.8540</td>\n",
       "    </tr>\n",
       "    <tr>\n",
       "      <th>4</th>\n",
       "      <td>6</td>\n",
       "      <td>1.0</td>\n",
       "      <td>0.9507</td>\n",
       "    </tr>\n",
       "    <tr>\n",
       "      <th>...</th>\n",
       "      <td>...</td>\n",
       "      <td>...</td>\n",
       "      <td>...</td>\n",
       "    </tr>\n",
       "    <tr>\n",
       "      <th>2792035</th>\n",
       "      <td>3309990</td>\n",
       "      <td>1.0</td>\n",
       "      <td>0.9140</td>\n",
       "    </tr>\n",
       "    <tr>\n",
       "      <th>2792036</th>\n",
       "      <td>3309968</td>\n",
       "      <td>1.0</td>\n",
       "      <td>0.8555</td>\n",
       "    </tr>\n",
       "    <tr>\n",
       "      <th>2792037</th>\n",
       "      <td>3309953</td>\n",
       "      <td>1.0</td>\n",
       "      <td>0.9540</td>\n",
       "    </tr>\n",
       "    <tr>\n",
       "      <th>2792038</th>\n",
       "      <td>3309998</td>\n",
       "      <td>1.0</td>\n",
       "      <td>0.9350</td>\n",
       "    </tr>\n",
       "    <tr>\n",
       "      <th>2792039</th>\n",
       "      <td>3310000</td>\n",
       "      <td>1.0</td>\n",
       "      <td>0.9546</td>\n",
       "    </tr>\n",
       "  </tbody>\n",
       "</table>\n",
       "<p>2791575 rows × 3 columns</p>\n",
       "</div>"
      ],
      "text/plain": [
       "             idx  caption   image\n",
       "0             24      1.0  0.9710\n",
       "1              2      1.0  0.9526\n",
       "2             25      1.0  0.9670\n",
       "3             38      1.0  0.8540\n",
       "4              6      1.0  0.9507\n",
       "...          ...      ...     ...\n",
       "2792035  3309990      1.0  0.9140\n",
       "2792036  3309968      1.0  0.8555\n",
       "2792037  3309953      1.0  0.9540\n",
       "2792038  3309998      1.0  0.9350\n",
       "2792039  3310000      1.0  0.9546\n",
       "\n",
       "[2791575 rows x 3 columns]"
      ]
     },
     "execution_count": 43,
     "metadata": {},
     "output_type": "execute_result"
    }
   ],
   "source": [
    "deneme2"
   ]
  },
  {
   "cell_type": "code",
   "execution_count": 44,
   "id": "813e7f7e-1e1d-4539-8473-9c82a1d1ce02",
   "metadata": {},
   "outputs": [
    {
     "data": {
      "text/plain": [
       "2792040"
      ]
     },
     "execution_count": 44,
     "metadata": {},
     "output_type": "execute_result"
    }
   ],
   "source": [
    "len(idx23)"
   ]
  },
  {
   "cell_type": "code",
   "execution_count": 74,
   "id": "0d0d0a52-8529-484d-8dc7-2ca4a92fafc7",
   "metadata": {},
   "outputs": [],
   "source": [
    "deneme.to_csv(\"comparison2.tsv\",index=True,sep='\\t')"
   ]
  },
  {
   "cell_type": "code",
   "execution_count": 45,
   "id": "3ea345db-d0ee-4b25-94a9-469cc2815a25",
   "metadata": {},
   "outputs": [],
   "source": [
    "comparison = pd.read_csv(\"comparison.tsv\", sep='\\t',index_col=0)"
   ]
  },
  {
   "cell_type": "code",
   "execution_count": 46,
   "id": "94f7086a-20aa-4083-accb-bb6de1de5afd",
   "metadata": {},
   "outputs": [
    {
     "data": {
      "text/html": [
       "<div>\n",
       "<style scoped>\n",
       "    .dataframe tbody tr th:only-of-type {\n",
       "        vertical-align: middle;\n",
       "    }\n",
       "\n",
       "    .dataframe tbody tr th {\n",
       "        vertical-align: top;\n",
       "    }\n",
       "\n",
       "    .dataframe thead th {\n",
       "        text-align: right;\n",
       "    }\n",
       "</style>\n",
       "<table border=\"1\" class=\"dataframe\">\n",
       "  <thead>\n",
       "    <tr style=\"text-align: right;\">\n",
       "      <th></th>\n",
       "      <th>idx</th>\n",
       "      <th>caption</th>\n",
       "      <th>image</th>\n",
       "    </tr>\n",
       "  </thead>\n",
       "  <tbody>\n",
       "    <tr>\n",
       "      <th>0</th>\n",
       "      <td>24</td>\n",
       "      <td>1.0</td>\n",
       "      <td>0.9710</td>\n",
       "    </tr>\n",
       "    <tr>\n",
       "      <th>1</th>\n",
       "      <td>2</td>\n",
       "      <td>1.0</td>\n",
       "      <td>0.9526</td>\n",
       "    </tr>\n",
       "    <tr>\n",
       "      <th>2</th>\n",
       "      <td>25</td>\n",
       "      <td>1.0</td>\n",
       "      <td>0.9670</td>\n",
       "    </tr>\n",
       "    <tr>\n",
       "      <th>3</th>\n",
       "      <td>38</td>\n",
       "      <td>1.0</td>\n",
       "      <td>0.8540</td>\n",
       "    </tr>\n",
       "    <tr>\n",
       "      <th>4</th>\n",
       "      <td>6</td>\n",
       "      <td>1.0</td>\n",
       "      <td>0.9507</td>\n",
       "    </tr>\n",
       "    <tr>\n",
       "      <th>...</th>\n",
       "      <td>...</td>\n",
       "      <td>...</td>\n",
       "      <td>...</td>\n",
       "    </tr>\n",
       "    <tr>\n",
       "      <th>2792035</th>\n",
       "      <td>3309990</td>\n",
       "      <td>1.0</td>\n",
       "      <td>0.9140</td>\n",
       "    </tr>\n",
       "    <tr>\n",
       "      <th>2792036</th>\n",
       "      <td>3309968</td>\n",
       "      <td>1.0</td>\n",
       "      <td>0.8555</td>\n",
       "    </tr>\n",
       "    <tr>\n",
       "      <th>2792037</th>\n",
       "      <td>3309953</td>\n",
       "      <td>1.0</td>\n",
       "      <td>0.9540</td>\n",
       "    </tr>\n",
       "    <tr>\n",
       "      <th>2792038</th>\n",
       "      <td>3309998</td>\n",
       "      <td>1.0</td>\n",
       "      <td>0.9350</td>\n",
       "    </tr>\n",
       "    <tr>\n",
       "      <th>2792039</th>\n",
       "      <td>3310000</td>\n",
       "      <td>1.0</td>\n",
       "      <td>0.9546</td>\n",
       "    </tr>\n",
       "  </tbody>\n",
       "</table>\n",
       "<p>2791575 rows × 3 columns</p>\n",
       "</div>"
      ],
      "text/plain": [
       "             idx  caption   image\n",
       "0             24      1.0  0.9710\n",
       "1              2      1.0  0.9526\n",
       "2             25      1.0  0.9670\n",
       "3             38      1.0  0.8540\n",
       "4              6      1.0  0.9507\n",
       "...          ...      ...     ...\n",
       "2792035  3309990      1.0  0.9140\n",
       "2792036  3309968      1.0  0.8555\n",
       "2792037  3309953      1.0  0.9540\n",
       "2792038  3309998      1.0  0.9350\n",
       "2792039  3310000      1.0  0.9546\n",
       "\n",
       "[2791575 rows x 3 columns]"
      ]
     },
     "execution_count": 46,
     "metadata": {},
     "output_type": "execute_result"
    }
   ],
   "source": [
    "comparison"
   ]
  },
  {
   "cell_type": "code",
   "execution_count": 47,
   "id": "dd3a6cd7-83a8-492b-9556-987e814a2a7f",
   "metadata": {},
   "outputs": [],
   "source": [
    "comp_np = comparison.to_numpy()"
   ]
  },
  {
   "cell_type": "code",
   "execution_count": 48,
   "id": "25bda66c-9454-45d2-910f-4dd889640e64",
   "metadata": {},
   "outputs": [
    {
     "data": {
      "text/plain": [
       "array([0.971 , 0.9526, 0.967 , ..., 0.954 , 0.935 , 0.9546])"
      ]
     },
     "execution_count": 48,
     "metadata": {},
     "output_type": "execute_result"
    }
   ],
   "source": [
    "comp_np[:,2]"
   ]
  },
  {
   "cell_type": "code",
   "execution_count": 49,
   "id": "8965d876-02ce-4cdb-af8d-924ae3db3620",
   "metadata": {},
   "outputs": [
    {
     "data": {
      "image/png": "[encoded data removed]",
      "text/plain": [
       "<Figure size 640x480 with 1 Axes>"
      ]
     },
     "metadata": {},
     "output_type": "display_data"
    }
   ],
   "source": [
    "plt.hist(comp_np[:,2],200)\n",
    "plt.xlabel(\"img18 & img23\")\n",
    "plt.ylabel(\"#\")\n",
    "plt.title(\"image comparison,200 bins,tot 2791575\")\n",
    "plt.savefig('plots/img_comparison.png')\n",
    "#plt.show()"
   ]
  },
  {
   "cell_type": "code",
   "execution_count": 123,
   "id": "b60656d4-e116-42b1-a983-613b884f91a2",
   "metadata": {},
   "outputs": [
    {
     "data": {
      "image/png": "[encoded data removed]",
      "text/plain": [
       "<Figure size 640x480 with 1 Axes>"
      ]
     },
     "metadata": {},
     "output_type": "display_data"
    }
   ],
   "source": [
    "plt.hist(comp_np[:,1],100)\n",
    "plt.xlabel(\"txt18 & txt23\")\n",
    "plt.ylabel(\"#\")\n",
    "plt.title(\"caption comparison, 100 bins\")\n",
    "plt.savefig('plots/txt_comparison_full.png')\n",
    "plt.show()"
   ]
  },
  {
   "cell_type": "code",
   "execution_count": 119,
   "id": "7f48fe38-8c36-4577-8f30-be3db3f277b9",
   "metadata": {},
   "outputs": [
    {
     "data": {
      "image/png": "[encoded data removed]",
      "text/plain": [
       "<Figure size 640x480 with 1 Axes>"
      ]
     },
     "metadata": {},
     "output_type": "display_data"
    }
   ],
   "source": [
    "plt.hist(comp_np[comp_np[:,1]<0.995][:,1],100)\n",
    "plt.xlabel(\"txt18 & txt23\")\n",
    "plt.ylabel(\"#\")\n",
    "plt.title(\"caption comparison with sim<0.995,100 bins,4446 tot\")\n",
    "plt.show()\n",
    "#plt.savefig('plots/txt_comparison.png')"
   ]
  },
  {
   "cell_type": "code",
   "execution_count": 113,
   "id": "85e2c4c7-6a49-48f2-90a9-938acfe31ad3",
   "metadata": {},
   "outputs": [
    {
     "name": "stdout",
     "output_type": "stream",
     "text": [
      "# of txt sim < 0.99:  4446\n",
      "% of txt sim < 0.99:  0.15926493108728942\n"
     ]
    }
   ],
   "source": [
    "print(\"# of txt sim < 0.99: \",np.sum(comp_np[:,1]<0.995))\n",
    "print(\"% of txt sim < 0.99: \",np.sum(comp_np[:,1]<0.995)/len(comparison)*100)"
   ]
  },
  {
   "cell_type": "code",
   "execution_count": 101,
   "id": "38303d7d-79a6-41b1-97ad-79b7f9287ce1",
   "metadata": {},
   "outputs": [
    {
     "data": {
      "text/html": [
       "<div>\n",
       "<style scoped>\n",
       "    .dataframe tbody tr th:only-of-type {\n",
       "        vertical-align: middle;\n",
       "    }\n",
       "\n",
       "    .dataframe tbody tr th {\n",
       "        vertical-align: top;\n",
       "    }\n",
       "\n",
       "    .dataframe thead th {\n",
       "        text-align: right;\n",
       "    }\n",
       "</style>\n",
       "<table border=\"1\" class=\"dataframe\">\n",
       "  <thead>\n",
       "    <tr style=\"text-align: right;\">\n",
       "      <th></th>\n",
       "      <th>idx</th>\n",
       "      <th>caption</th>\n",
       "      <th>image</th>\n",
       "    </tr>\n",
       "  </thead>\n",
       "  <tbody>\n",
       "    <tr>\n",
       "      <th>595</th>\n",
       "      <td>20027</td>\n",
       "      <td>0.8870</td>\n",
       "      <td>0.9510</td>\n",
       "    </tr>\n",
       "    <tr>\n",
       "      <th>754</th>\n",
       "      <td>20297</td>\n",
       "      <td>0.9595</td>\n",
       "      <td>0.8200</td>\n",
       "    </tr>\n",
       "    <tr>\n",
       "      <th>2888</th>\n",
       "      <td>30695</td>\n",
       "      <td>0.9614</td>\n",
       "      <td>0.8726</td>\n",
       "    </tr>\n",
       "    <tr>\n",
       "      <th>4345</th>\n",
       "      <td>1519</td>\n",
       "      <td>0.9497</td>\n",
       "      <td>0.8916</td>\n",
       "    </tr>\n",
       "    <tr>\n",
       "      <th>4437</th>\n",
       "      <td>11316</td>\n",
       "      <td>0.9730</td>\n",
       "      <td>0.9650</td>\n",
       "    </tr>\n",
       "    <tr>\n",
       "      <th>...</th>\n",
       "      <td>...</td>\n",
       "      <td>...</td>\n",
       "      <td>...</td>\n",
       "    </tr>\n",
       "    <tr>\n",
       "      <th>2788650</th>\n",
       "      <td>3298728</td>\n",
       "      <td>0.9640</td>\n",
       "      <td>0.9560</td>\n",
       "    </tr>\n",
       "    <tr>\n",
       "      <th>2788898</th>\n",
       "      <td>3308333</td>\n",
       "      <td>0.9336</td>\n",
       "      <td>0.9230</td>\n",
       "    </tr>\n",
       "    <tr>\n",
       "      <th>2790141</th>\n",
       "      <td>3289458</td>\n",
       "      <td>0.9550</td>\n",
       "      <td>0.9390</td>\n",
       "    </tr>\n",
       "    <tr>\n",
       "      <th>2790440</th>\n",
       "      <td>3299557</td>\n",
       "      <td>0.9634</td>\n",
       "      <td>0.9190</td>\n",
       "    </tr>\n",
       "    <tr>\n",
       "      <th>2791135</th>\n",
       "      <td>3299802</td>\n",
       "      <td>0.9604</td>\n",
       "      <td>0.7780</td>\n",
       "    </tr>\n",
       "  </tbody>\n",
       "</table>\n",
       "<p>4219 rows × 3 columns</p>\n",
       "</div>"
      ],
      "text/plain": [
       "             idx  caption   image\n",
       "595        20027   0.8870  0.9510\n",
       "754        20297   0.9595  0.8200\n",
       "2888       30695   0.9614  0.8726\n",
       "4345        1519   0.9497  0.8916\n",
       "4437       11316   0.9730  0.9650\n",
       "...          ...      ...     ...\n",
       "2788650  3298728   0.9640  0.9560\n",
       "2788898  3308333   0.9336  0.9230\n",
       "2790141  3289458   0.9550  0.9390\n",
       "2790440  3299557   0.9634  0.9190\n",
       "2791135  3299802   0.9604  0.7780\n",
       "\n",
       "[4219 rows x 3 columns]"
      ]
     },
     "execution_count": 101,
     "metadata": {},
     "output_type": "execute_result"
    }
   ],
   "source": [
    "comparison[comparison['caption']<0.99]"
   ]
  },
  {
   "cell_type": "code",
   "execution_count": 104,
   "id": "1187c5dd-08f0-4f8e-bbdb-5422a26f07e4",
   "metadata": {},
   "outputs": [
    {
     "data": {
      "text/plain": [
       "0.9497"
      ]
     },
     "execution_count": 104,
     "metadata": {},
     "output_type": "execute_result"
    }
   ],
   "source": [
    "x = 1519\n",
    "np.sum(txt23[idx23.index(x)]*txt18[idx18.index(x)])"
   ]
  },
  {
   "cell_type": "code",
   "execution_count": 105,
   "id": "7557fd5e-283b-4d43-bd96-63094fb13150",
   "metadata": {},
   "outputs": [
    {
     "data": {
      "text/plain": [
       "'meanwhile , the same top in tall collection is £ 19.99'"
      ]
     },
     "execution_count": 105,
     "metadata": {},
     "output_type": "execute_result"
    }
   ],
   "source": [
    "df_train['caption'][x-2]"
   ]
  },
  {
   "cell_type": "code",
   "execution_count": 353,
   "id": "5b63bef9-f588-4c3c-805d-b5598432362c",
   "metadata": {},
   "outputs": [
    {
     "data": {
      "text/plain": [
       "465"
      ]
     },
     "execution_count": 353,
     "metadata": {},
     "output_type": "execute_result"
    }
   ],
   "source": [
    "missing_indexes = list(missing_indexes)\n",
    "len(missing_indexes)"
   ]
  },
  {
   "cell_type": "code",
   "execution_count": 356,
   "id": "2e3506f7-d2ea-4020-b428-52c28232b1be",
   "metadata": {},
   "outputs": [
    {
     "data": {
      "text/plain": [
       "'https://i.pinimg.com/736x/9f/f8/7d/9ff87d88caae45e4923c65d47e4daaf5.jpg'"
      ]
     },
     "execution_count": 356,
     "metadata": {},
     "output_type": "execute_result"
    }
   ],
   "source": [
    "df_train['url'][missing_indexes[6]-2]"
   ]
  },
  {
   "cell_type": "code",
   "execution_count": null,
   "id": "505e0a71-4f8a-40ab-ac2e-682aeeaaf370",
   "metadata": {},
   "outputs": [],
   "source": []
  },
  {
   "cell_type": "code",
   "execution_count": 69,
   "id": "7ed47b3f-34f1-4996-9d6f-2cc76f23f3af",
   "metadata": {},
   "outputs": [
    {
     "data": {
      "text/html": [
       "<div>\n",
       "<style scoped>\n",
       "    .dataframe tbody tr th:only-of-type {\n",
       "        vertical-align: middle;\n",
       "    }\n",
       "\n",
       "    .dataframe tbody tr th {\n",
       "        vertical-align: top;\n",
       "    }\n",
       "\n",
       "    .dataframe thead th {\n",
       "        text-align: right;\n",
       "    }\n",
       "</style>\n",
       "<table border=\"1\" class=\"dataframe\">\n",
       "  <thead>\n",
       "    <tr style=\"text-align: right;\">\n",
       "      <th></th>\n",
       "      <th>idx</th>\n",
       "      <th>caption</th>\n",
       "      <th>image</th>\n",
       "    </tr>\n",
       "  </thead>\n",
       "  <tbody>\n",
       "    <tr>\n",
       "      <th>1113517</th>\n",
       "      <td>1331163</td>\n",
       "      <td>0.8830</td>\n",
       "      <td>0.9600</td>\n",
       "    </tr>\n",
       "    <tr>\n",
       "      <th>583055</th>\n",
       "      <td>693545</td>\n",
       "      <td>0.8580</td>\n",
       "      <td>0.9463</td>\n",
       "    </tr>\n",
       "    <tr>\n",
       "      <th>2371933</th>\n",
       "      <td>2814743</td>\n",
       "      <td>0.8730</td>\n",
       "      <td>0.9663</td>\n",
       "    </tr>\n",
       "    <tr>\n",
       "      <th>2715869</th>\n",
       "      <td>3207402</td>\n",
       "      <td>0.8877</td>\n",
       "      <td>0.8760</td>\n",
       "    </tr>\n",
       "    <tr>\n",
       "      <th>241187</th>\n",
       "      <td>301739</td>\n",
       "      <td>0.8643</td>\n",
       "      <td>0.8926</td>\n",
       "    </tr>\n",
       "    <tr>\n",
       "      <th>...</th>\n",
       "      <td>...</td>\n",
       "      <td>...</td>\n",
       "      <td>...</td>\n",
       "    </tr>\n",
       "    <tr>\n",
       "      <th>1133187</th>\n",
       "      <td>1346548</td>\n",
       "      <td>0.8867</td>\n",
       "      <td>0.9530</td>\n",
       "    </tr>\n",
       "    <tr>\n",
       "      <th>1802236</th>\n",
       "      <td>2155068</td>\n",
       "      <td>0.8550</td>\n",
       "      <td>0.8896</td>\n",
       "    </tr>\n",
       "    <tr>\n",
       "      <th>2237896</th>\n",
       "      <td>2655022</td>\n",
       "      <td>0.8580</td>\n",
       "      <td>0.8280</td>\n",
       "    </tr>\n",
       "    <tr>\n",
       "      <th>1527832</th>\n",
       "      <td>1803949</td>\n",
       "      <td>0.7964</td>\n",
       "      <td>0.9487</td>\n",
       "    </tr>\n",
       "    <tr>\n",
       "      <th>1076761</th>\n",
       "      <td>1269709</td>\n",
       "      <td>0.8690</td>\n",
       "      <td>0.9556</td>\n",
       "    </tr>\n",
       "  </tbody>\n",
       "</table>\n",
       "<p>100 rows × 3 columns</p>\n",
       "</div>"
      ],
      "text/plain": [
       "             idx  caption   image\n",
       "1113517  1331163   0.8830  0.9600\n",
       "583055    693545   0.8580  0.9463\n",
       "2371933  2814743   0.8730  0.9663\n",
       "2715869  3207402   0.8877  0.8760\n",
       "241187    301739   0.8643  0.8926\n",
       "...          ...      ...     ...\n",
       "1133187  1346548   0.8867  0.9530\n",
       "1802236  2155068   0.8550  0.8896\n",
       "2237896  2655022   0.8580  0.8280\n",
       "1527832  1803949   0.7964  0.9487\n",
       "1076761  1269709   0.8690  0.9556\n",
       "\n",
       "[100 rows x 3 columns]"
      ]
     },
     "execution_count": 69,
     "metadata": {},
     "output_type": "execute_result"
    }
   ],
   "source": [
    "clow = comparison[comparison['caption']<0.9].sample(100)\n",
    "clow"
   ]
  },
  {
   "cell_type": "code",
   "execution_count": 70,
   "id": "c44db377-a95f-4552-a433-515120ca19ed",
   "metadata": {},
   "outputs": [],
   "source": [
    "clow.to_csv(\"clow.tsv\",index=True,sep='\\t')"
   ]
  },
  {
   "cell_type": "code",
   "execution_count": 71,
   "id": "3dbe11b3-2b7e-4ff9-8798-3c75de1dadfd",
   "metadata": {},
   "outputs": [],
   "source": [
    "clow2 = pd.read_csv(\"clow.tsv\", sep='\\t',index_col=0)"
   ]
  },
  {
   "cell_type": "code",
   "execution_count": 72,
   "id": "efb74e28-28d3-4a20-883a-fc9fc96c9811",
   "metadata": {},
   "outputs": [
    {
     "data": {
      "text/html": [
       "<div>\n",
       "<style scoped>\n",
       "    .dataframe tbody tr th:only-of-type {\n",
       "        vertical-align: middle;\n",
       "    }\n",
       "\n",
       "    .dataframe tbody tr th {\n",
       "        vertical-align: top;\n",
       "    }\n",
       "\n",
       "    .dataframe thead th {\n",
       "        text-align: right;\n",
       "    }\n",
       "</style>\n",
       "<table border=\"1\" class=\"dataframe\">\n",
       "  <thead>\n",
       "    <tr style=\"text-align: right;\">\n",
       "      <th></th>\n",
       "      <th>idx</th>\n",
       "      <th>caption</th>\n",
       "      <th>image</th>\n",
       "    </tr>\n",
       "  </thead>\n",
       "  <tbody>\n",
       "    <tr>\n",
       "      <th>1113517</th>\n",
       "      <td>1331163</td>\n",
       "      <td>0.8830</td>\n",
       "      <td>0.9600</td>\n",
       "    </tr>\n",
       "    <tr>\n",
       "      <th>583055</th>\n",
       "      <td>693545</td>\n",
       "      <td>0.8580</td>\n",
       "      <td>0.9463</td>\n",
       "    </tr>\n",
       "    <tr>\n",
       "      <th>2371933</th>\n",
       "      <td>2814743</td>\n",
       "      <td>0.8730</td>\n",
       "      <td>0.9663</td>\n",
       "    </tr>\n",
       "    <tr>\n",
       "      <th>2715869</th>\n",
       "      <td>3207402</td>\n",
       "      <td>0.8877</td>\n",
       "      <td>0.8760</td>\n",
       "    </tr>\n",
       "    <tr>\n",
       "      <th>241187</th>\n",
       "      <td>301739</td>\n",
       "      <td>0.8643</td>\n",
       "      <td>0.8926</td>\n",
       "    </tr>\n",
       "    <tr>\n",
       "      <th>...</th>\n",
       "      <td>...</td>\n",
       "      <td>...</td>\n",
       "      <td>...</td>\n",
       "    </tr>\n",
       "    <tr>\n",
       "      <th>1133187</th>\n",
       "      <td>1346548</td>\n",
       "      <td>0.8867</td>\n",
       "      <td>0.9530</td>\n",
       "    </tr>\n",
       "    <tr>\n",
       "      <th>1802236</th>\n",
       "      <td>2155068</td>\n",
       "      <td>0.8550</td>\n",
       "      <td>0.8896</td>\n",
       "    </tr>\n",
       "    <tr>\n",
       "      <th>2237896</th>\n",
       "      <td>2655022</td>\n",
       "      <td>0.8580</td>\n",
       "      <td>0.8280</td>\n",
       "    </tr>\n",
       "    <tr>\n",
       "      <th>1527832</th>\n",
       "      <td>1803949</td>\n",
       "      <td>0.7964</td>\n",
       "      <td>0.9487</td>\n",
       "    </tr>\n",
       "    <tr>\n",
       "      <th>1076761</th>\n",
       "      <td>1269709</td>\n",
       "      <td>0.8690</td>\n",
       "      <td>0.9556</td>\n",
       "    </tr>\n",
       "  </tbody>\n",
       "</table>\n",
       "<p>100 rows × 3 columns</p>\n",
       "</div>"
      ],
      "text/plain": [
       "             idx  caption   image\n",
       "1113517  1331163   0.8830  0.9600\n",
       "583055    693545   0.8580  0.9463\n",
       "2371933  2814743   0.8730  0.9663\n",
       "2715869  3207402   0.8877  0.8760\n",
       "241187    301739   0.8643  0.8926\n",
       "...          ...      ...     ...\n",
       "1133187  1346548   0.8867  0.9530\n",
       "1802236  2155068   0.8550  0.8896\n",
       "2237896  2655022   0.8580  0.8280\n",
       "1527832  1803949   0.7964  0.9487\n",
       "1076761  1269709   0.8690  0.9556\n",
       "\n",
       "[100 rows x 3 columns]"
      ]
     },
     "execution_count": 72,
     "metadata": {},
     "output_type": "execute_result"
    }
   ],
   "source": [
    "clow2"
   ]
  },
  {
   "cell_type": "code",
   "execution_count": 73,
   "id": "2ed4e267-c1ab-4942-927f-1cba92061780",
   "metadata": {},
   "outputs": [
    {
     "data": {
      "text/html": [
       "<div>\n",
       "<style scoped>\n",
       "    .dataframe tbody tr th:only-of-type {\n",
       "        vertical-align: middle;\n",
       "    }\n",
       "\n",
       "    .dataframe tbody tr th {\n",
       "        vertical-align: top;\n",
       "    }\n",
       "\n",
       "    .dataframe thead th {\n",
       "        text-align: right;\n",
       "    }\n",
       "</style>\n",
       "<table border=\"1\" class=\"dataframe\">\n",
       "  <thead>\n",
       "    <tr style=\"text-align: right;\">\n",
       "      <th></th>\n",
       "      <th>idx</th>\n",
       "      <th>caption</th>\n",
       "      <th>image</th>\n",
       "    </tr>\n",
       "  </thead>\n",
       "  <tbody>\n",
       "    <tr>\n",
       "      <th>1145750</th>\n",
       "      <td>1390202</td>\n",
       "      <td>0.9995</td>\n",
       "      <td>0.8970</td>\n",
       "    </tr>\n",
       "    <tr>\n",
       "      <th>1422437</th>\n",
       "      <td>1682669</td>\n",
       "      <td>1.0000</td>\n",
       "      <td>0.8984</td>\n",
       "    </tr>\n",
       "    <tr>\n",
       "      <th>111986</th>\n",
       "      <td>133282</td>\n",
       "      <td>1.0000</td>\n",
       "      <td>0.9200</td>\n",
       "    </tr>\n",
       "    <tr>\n",
       "      <th>785315</th>\n",
       "      <td>953320</td>\n",
       "      <td>1.0000</td>\n",
       "      <td>0.8340</td>\n",
       "    </tr>\n",
       "    <tr>\n",
       "      <th>2506827</th>\n",
       "      <td>2965078</td>\n",
       "      <td>1.0000</td>\n",
       "      <td>0.8920</td>\n",
       "    </tr>\n",
       "    <tr>\n",
       "      <th>...</th>\n",
       "      <td>...</td>\n",
       "      <td>...</td>\n",
       "      <td>...</td>\n",
       "    </tr>\n",
       "    <tr>\n",
       "      <th>2380255</th>\n",
       "      <td>2817324</td>\n",
       "      <td>1.0000</td>\n",
       "      <td>0.9760</td>\n",
       "    </tr>\n",
       "    <tr>\n",
       "      <th>999003</th>\n",
       "      <td>1186602</td>\n",
       "      <td>1.0000</td>\n",
       "      <td>0.8794</td>\n",
       "    </tr>\n",
       "    <tr>\n",
       "      <th>1209632</th>\n",
       "      <td>1419638</td>\n",
       "      <td>1.0000</td>\n",
       "      <td>0.9710</td>\n",
       "    </tr>\n",
       "    <tr>\n",
       "      <th>2001347</th>\n",
       "      <td>2374700</td>\n",
       "      <td>1.0000</td>\n",
       "      <td>0.8887</td>\n",
       "    </tr>\n",
       "    <tr>\n",
       "      <th>2014985</th>\n",
       "      <td>2398136</td>\n",
       "      <td>1.0000</td>\n",
       "      <td>0.8853</td>\n",
       "    </tr>\n",
       "  </tbody>\n",
       "</table>\n",
       "<p>100 rows × 3 columns</p>\n",
       "</div>"
      ],
      "text/plain": [
       "             idx  caption   image\n",
       "1145750  1390202   0.9995  0.8970\n",
       "1422437  1682669   1.0000  0.8984\n",
       "111986    133282   1.0000  0.9200\n",
       "785315    953320   1.0000  0.8340\n",
       "2506827  2965078   1.0000  0.8920\n",
       "...          ...      ...     ...\n",
       "2380255  2817324   1.0000  0.9760\n",
       "999003   1186602   1.0000  0.8794\n",
       "1209632  1419638   1.0000  0.9710\n",
       "2001347  2374700   1.0000  0.8887\n",
       "2014985  2398136   1.0000  0.8853\n",
       "\n",
       "[100 rows x 3 columns]"
      ]
     },
     "execution_count": 73,
     "metadata": {},
     "output_type": "execute_result"
    }
   ],
   "source": [
    "chigh = comparison[comparison['caption']>0.995].sample(100)\n",
    "chigh"
   ]
  },
  {
   "cell_type": "code",
   "execution_count": 74,
   "id": "06d5a31a-2d22-4902-96a8-7dbc60d352ae",
   "metadata": {},
   "outputs": [],
   "source": [
    "chigh.to_csv(\"chigh.tsv\",index=True,sep='\\t')"
   ]
  },
  {
   "cell_type": "code",
   "execution_count": 85,
   "id": "b562231e-aa1e-4365-ac16-4b906c3a3ebf",
   "metadata": {},
   "outputs": [
    {
     "data": {
      "text/html": [
       "<div>\n",
       "<style scoped>\n",
       "    .dataframe tbody tr th:only-of-type {\n",
       "        vertical-align: middle;\n",
       "    }\n",
       "\n",
       "    .dataframe tbody tr th {\n",
       "        vertical-align: top;\n",
       "    }\n",
       "\n",
       "    .dataframe thead th {\n",
       "        text-align: right;\n",
       "    }\n",
       "</style>\n",
       "<table border=\"1\" class=\"dataframe\">\n",
       "  <thead>\n",
       "    <tr style=\"text-align: right;\">\n",
       "      <th></th>\n",
       "      <th>caption</th>\n",
       "      <th>url</th>\n",
       "    </tr>\n",
       "  </thead>\n",
       "  <tbody>\n",
       "    <tr>\n",
       "      <th>1331161</th>\n",
       "      <td>slim fit jeans från diesel till dam .</td>\n",
       "      <td>http://i.0oo.se/20/skinzee-jeans-4.jpg</td>\n",
       "    </tr>\n",
       "    <tr>\n",
       "      <th>693543</th>\n",
       "      <td>façade of the library of person , an ancient b...</td>\n",
       "      <td>http://l7.alamy.com/zooms/e7096f1aad7148cf990e...</td>\n",
       "    </tr>\n",
       "    <tr>\n",
       "      <th>2814741</th>\n",
       "      <td>step inside this £ 1.1 m house</td>\n",
       "      <td>https://i2-prod.southportvisiter.co.uk/incomin...</td>\n",
       "    </tr>\n",
       "    <tr>\n",
       "      <th>3207400</th>\n",
       "      <td>another person found the same symbol on a £ 2 ...</td>\n",
       "      <td>https://www.thesun.co.uk/wp-content/uploads/20...</td>\n",
       "    </tr>\n",
       "    <tr>\n",
       "      <th>301737</th>\n",
       "      <td>the façade is rich in 13th century sculpture .</td>\n",
       "      <td>http://l7.alamy.com/zooms/8188c1ff90864cd88612...</td>\n",
       "    </tr>\n",
       "    <tr>\n",
       "      <th>...</th>\n",
       "      <td>...</td>\n",
       "      <td>...</td>\n",
       "    </tr>\n",
       "    <tr>\n",
       "      <th>1346546</th>\n",
       "      <td>the décor at the entrance</td>\n",
       "      <td>https://d1tq208oegmb9e.cloudfront.net/site_pho...</td>\n",
       "    </tr>\n",
       "    <tr>\n",
       "      <th>2155066</th>\n",
       "      <td>main façade of the cathedral</td>\n",
       "      <td>http://l7.alamy.com/zooms/4082074ab05848d39b7d...</td>\n",
       "    </tr>\n",
       "    <tr>\n",
       "      <th>2655020</th>\n",
       "      <td>façade of the library of person , an ancient b...</td>\n",
       "      <td>http://l7.alamy.com/zooms/5e18a0e7f00148e490e8...</td>\n",
       "    </tr>\n",
       "    <tr>\n",
       "      <th>1803947</th>\n",
       "      <td>deadline looming : the old round £ 1 coins expire</td>\n",
       "      <td>https://www.standard.co.uk/s3fs-public/styles/...</td>\n",
       "    </tr>\n",
       "    <tr>\n",
       "      <th>1269707</th>\n",
       "      <td>montréal apartment rental - leading to the bed...</td>\n",
       "      <td>https://odis.homeaway.com/odis/listing/6e2ae14...</td>\n",
       "    </tr>\n",
       "  </tbody>\n",
       "</table>\n",
       "<p>100 rows × 2 columns</p>\n",
       "</div>"
      ],
      "text/plain": [
       "                                                   caption  \\\n",
       "1331161              slim fit jeans från diesel till dam .   \n",
       "693543   façade of the library of person , an ancient b...   \n",
       "2814741                     step inside this £ 1.1 m house   \n",
       "3207400  another person found the same symbol on a £ 2 ...   \n",
       "301737      the façade is rich in 13th century sculpture .   \n",
       "...                                                    ...   \n",
       "1346546                          the décor at the entrance   \n",
       "2155066                       main façade of the cathedral   \n",
       "2655020  façade of the library of person , an ancient b...   \n",
       "1803947  deadline looming : the old round £ 1 coins expire   \n",
       "1269707  montréal apartment rental - leading to the bed...   \n",
       "\n",
       "                                                       url  \n",
       "1331161             http://i.0oo.se/20/skinzee-jeans-4.jpg  \n",
       "693543   http://l7.alamy.com/zooms/e7096f1aad7148cf990e...  \n",
       "2814741  https://i2-prod.southportvisiter.co.uk/incomin...  \n",
       "3207400  https://www.thesun.co.uk/wp-content/uploads/20...  \n",
       "301737   http://l7.alamy.com/zooms/8188c1ff90864cd88612...  \n",
       "...                                                    ...  \n",
       "1346546  https://d1tq208oegmb9e.cloudfront.net/site_pho...  \n",
       "2155066  http://l7.alamy.com/zooms/4082074ab05848d39b7d...  \n",
       "2655020  http://l7.alamy.com/zooms/5e18a0e7f00148e490e8...  \n",
       "1803947  https://www.standard.co.uk/s3fs-public/styles/...  \n",
       "1269707  https://odis.homeaway.com/odis/listing/6e2ae14...  \n",
       "\n",
       "[100 rows x 2 columns]"
      ]
     },
     "execution_count": 85,
     "metadata": {},
     "output_type": "execute_result"
    }
   ],
   "source": [
    "df_train_low = df_train.loc[clow['idx'].to_numpy()-2]\n",
    "df_train_low"
   ]
  },
  {
   "cell_type": "code",
   "execution_count": 86,
   "id": "c1ebf017-8214-4de7-b84c-1b79fc4f0a31",
   "metadata": {},
   "outputs": [],
   "source": [
    "df_train_low.to_csv(\"df_c_low.tsv\",index=True,sep='\\t')"
   ]
  },
  {
   "cell_type": "code",
   "execution_count": 87,
   "id": "267d4a8c-edec-4afe-88f7-00c33827697c",
   "metadata": {},
   "outputs": [
    {
     "data": {
      "text/html": [
       "<div>\n",
       "<style scoped>\n",
       "    .dataframe tbody tr th:only-of-type {\n",
       "        vertical-align: middle;\n",
       "    }\n",
       "\n",
       "    .dataframe tbody tr th {\n",
       "        vertical-align: top;\n",
       "    }\n",
       "\n",
       "    .dataframe thead th {\n",
       "        text-align: right;\n",
       "    }\n",
       "</style>\n",
       "<table border=\"1\" class=\"dataframe\">\n",
       "  <thead>\n",
       "    <tr style=\"text-align: right;\">\n",
       "      <th></th>\n",
       "      <th>caption</th>\n",
       "      <th>url</th>\n",
       "    </tr>\n",
       "  </thead>\n",
       "  <tbody>\n",
       "    <tr>\n",
       "      <th>1390200</th>\n",
       "      <td>competitor attends the premiere of thriller film</td>\n",
       "      <td>https://media.gettyimages.com/photos/ariadna-g...</td>\n",
       "    </tr>\n",
       "    <tr>\n",
       "      <th>1682667</th>\n",
       "      <td>american football player prepares a cocktail .</td>\n",
       "      <td>https://www.mercurynews.com/wp-content/uploads...</td>\n",
       "    </tr>\n",
       "    <tr>\n",
       "      <th>133280</th>\n",
       "      <td>example : find the area of the triangle .</td>\n",
       "      <td>http://slideplayer.com/9182302/27/images/7/Exa...</td>\n",
       "    </tr>\n",
       "    <tr>\n",
       "      <th>953318</th>\n",
       "      <td>enthusiast : earlier on wednesday , person mad...</td>\n",
       "      <td>http://i.dailymail.co.uk/i/pix/2016/05/19/03/3...</td>\n",
       "    </tr>\n",
       "    <tr>\n",
       "      <th>2965076</th>\n",
       "      <td>person on stage with the cast of comedy .</td>\n",
       "      <td>https://d3c0x8onoccsn3.cloudfront.net/1920/192...</td>\n",
       "    </tr>\n",
       "    <tr>\n",
       "      <th>...</th>\n",
       "      <td>...</td>\n",
       "      <td>...</td>\n",
       "    </tr>\n",
       "    <tr>\n",
       "      <th>2817322</th>\n",
       "      <td>golden stars with a reflection on white vector...</td>\n",
       "      <td>https://media.istockphoto.com/vectors/five-gol...</td>\n",
       "    </tr>\n",
       "    <tr>\n",
       "      <th>1186600</th>\n",
       "      <td>animals of geographical feature category</td>\n",
       "      <td>http://slideplayer.com/4001193/13/images/27/An...</td>\n",
       "    </tr>\n",
       "    <tr>\n",
       "      <th>1419636</th>\n",
       "      <td>this bird has more talent than i ever will</td>\n",
       "      <td>https://i.pinimg.com/736x/23/01/af/2301afcee8d...</td>\n",
       "    </tr>\n",
       "    <tr>\n",
       "      <th>2374698</th>\n",
       "      <td>hard rock artist arrives at animation film .</td>\n",
       "      <td>https://media.gettyimages.com/photos/actor-jac...</td>\n",
       "    </tr>\n",
       "    <tr>\n",
       "      <th>2398134</th>\n",
       "      <td>american dollar and financial services busines...</td>\n",
       "      <td>http://l7.alamy.com/zooms/af954bb25869450cacc7...</td>\n",
       "    </tr>\n",
       "  </tbody>\n",
       "</table>\n",
       "<p>100 rows × 2 columns</p>\n",
       "</div>"
      ],
      "text/plain": [
       "                                                   caption  \\\n",
       "1390200   competitor attends the premiere of thriller film   \n",
       "1682667     american football player prepares a cocktail .   \n",
       "133280           example : find the area of the triangle .   \n",
       "953318   enthusiast : earlier on wednesday , person mad...   \n",
       "2965076          person on stage with the cast of comedy .   \n",
       "...                                                    ...   \n",
       "2817322  golden stars with a reflection on white vector...   \n",
       "1186600           animals of geographical feature category   \n",
       "1419636         this bird has more talent than i ever will   \n",
       "2374698       hard rock artist arrives at animation film .   \n",
       "2398134  american dollar and financial services busines...   \n",
       "\n",
       "                                                       url  \n",
       "1390200  https://media.gettyimages.com/photos/ariadna-g...  \n",
       "1682667  https://www.mercurynews.com/wp-content/uploads...  \n",
       "133280   http://slideplayer.com/9182302/27/images/7/Exa...  \n",
       "953318   http://i.dailymail.co.uk/i/pix/2016/05/19/03/3...  \n",
       "2965076  https://d3c0x8onoccsn3.cloudfront.net/1920/192...  \n",
       "...                                                    ...  \n",
       "2817322  https://media.istockphoto.com/vectors/five-gol...  \n",
       "1186600  http://slideplayer.com/4001193/13/images/27/An...  \n",
       "1419636  https://i.pinimg.com/736x/23/01/af/2301afcee8d...  \n",
       "2374698  https://media.gettyimages.com/photos/actor-jac...  \n",
       "2398134  http://l7.alamy.com/zooms/af954bb25869450cacc7...  \n",
       "\n",
       "[100 rows x 2 columns]"
      ]
     },
     "execution_count": 87,
     "metadata": {},
     "output_type": "execute_result"
    }
   ],
   "source": [
    "df_train_high = df_train.loc[chigh['idx'].to_numpy()-2]\n",
    "df_train_high"
   ]
  },
  {
   "cell_type": "code",
   "execution_count": 88,
   "id": "c8cc7656-e869-4487-8f77-a07dd501d754",
   "metadata": {},
   "outputs": [],
   "source": [
    "df_train_high.to_csv(\"df_c_high.tsv\",index=True,sep='\\t')"
   ]
  },
  {
   "cell_type": "code",
   "execution_count": 92,
   "id": "16eabcea-e9fb-42b9-b377-3128cfc95bfa",
   "metadata": {},
   "outputs": [],
   "source": [
    "a = pd.read_csv(\"daniel/df_c_low.tsv\", sep='\\t',index_col=0)"
   ]
  },
  {
   "cell_type": "code",
   "execution_count": 93,
   "id": "2b7b6c0c-c5ca-471d-bb96-25ebbf88ec34",
   "metadata": {},
   "outputs": [
    {
     "data": {
      "text/html": [
       "<div>\n",
       "<style scoped>\n",
       "    .dataframe tbody tr th:only-of-type {\n",
       "        vertical-align: middle;\n",
       "    }\n",
       "\n",
       "    .dataframe tbody tr th {\n",
       "        vertical-align: top;\n",
       "    }\n",
       "\n",
       "    .dataframe thead th {\n",
       "        text-align: right;\n",
       "    }\n",
       "</style>\n",
       "<table border=\"1\" class=\"dataframe\">\n",
       "  <thead>\n",
       "    <tr style=\"text-align: right;\">\n",
       "      <th></th>\n",
       "      <th>caption</th>\n",
       "      <th>url</th>\n",
       "    </tr>\n",
       "  </thead>\n",
       "  <tbody>\n",
       "    <tr>\n",
       "      <th>1331161</th>\n",
       "      <td>slim fit jeans från diesel till dam .</td>\n",
       "      <td>http://i.0oo.se/20/skinzee-jeans-4.jpg</td>\n",
       "    </tr>\n",
       "    <tr>\n",
       "      <th>693543</th>\n",
       "      <td>façade of the library of person , an ancient b...</td>\n",
       "      <td>http://l7.alamy.com/zooms/e7096f1aad7148cf990e...</td>\n",
       "    </tr>\n",
       "    <tr>\n",
       "      <th>2814741</th>\n",
       "      <td>step inside this £ 1.1 m house</td>\n",
       "      <td>https://i2-prod.southportvisiter.co.uk/incomin...</td>\n",
       "    </tr>\n",
       "    <tr>\n",
       "      <th>3207400</th>\n",
       "      <td>another person found the same symbol on a £ 2 ...</td>\n",
       "      <td>https://www.thesun.co.uk/wp-content/uploads/20...</td>\n",
       "    </tr>\n",
       "    <tr>\n",
       "      <th>301737</th>\n",
       "      <td>the façade is rich in 13th century sculpture .</td>\n",
       "      <td>http://l7.alamy.com/zooms/8188c1ff90864cd88612...</td>\n",
       "    </tr>\n",
       "    <tr>\n",
       "      <th>...</th>\n",
       "      <td>...</td>\n",
       "      <td>...</td>\n",
       "    </tr>\n",
       "    <tr>\n",
       "      <th>1346546</th>\n",
       "      <td>the décor at the entrance</td>\n",
       "      <td>https://d1tq208oegmb9e.cloudfront.net/site_pho...</td>\n",
       "    </tr>\n",
       "    <tr>\n",
       "      <th>2155066</th>\n",
       "      <td>main façade of the cathedral</td>\n",
       "      <td>http://l7.alamy.com/zooms/4082074ab05848d39b7d...</td>\n",
       "    </tr>\n",
       "    <tr>\n",
       "      <th>2655020</th>\n",
       "      <td>façade of the library of person , an ancient b...</td>\n",
       "      <td>http://l7.alamy.com/zooms/5e18a0e7f00148e490e8...</td>\n",
       "    </tr>\n",
       "    <tr>\n",
       "      <th>1803947</th>\n",
       "      <td>deadline looming : the old round £ 1 coins expire</td>\n",
       "      <td>https://www.standard.co.uk/s3fs-public/styles/...</td>\n",
       "    </tr>\n",
       "    <tr>\n",
       "      <th>1269707</th>\n",
       "      <td>montréal apartment rental - leading to the bed...</td>\n",
       "      <td>https://odis.homeaway.com/odis/listing/6e2ae14...</td>\n",
       "    </tr>\n",
       "  </tbody>\n",
       "</table>\n",
       "<p>100 rows × 2 columns</p>\n",
       "</div>"
      ],
      "text/plain": [
       "                                                   caption  \\\n",
       "1331161              slim fit jeans från diesel till dam .   \n",
       "693543   façade of the library of person , an ancient b...   \n",
       "2814741                     step inside this £ 1.1 m house   \n",
       "3207400  another person found the same symbol on a £ 2 ...   \n",
       "301737      the façade is rich in 13th century sculpture .   \n",
       "...                                                    ...   \n",
       "1346546                          the décor at the entrance   \n",
       "2155066                       main façade of the cathedral   \n",
       "2655020  façade of the library of person , an ancient b...   \n",
       "1803947  deadline looming : the old round £ 1 coins expire   \n",
       "1269707  montréal apartment rental - leading to the bed...   \n",
       "\n",
       "                                                       url  \n",
       "1331161             http://i.0oo.se/20/skinzee-jeans-4.jpg  \n",
       "693543   http://l7.alamy.com/zooms/e7096f1aad7148cf990e...  \n",
       "2814741  https://i2-prod.southportvisiter.co.uk/incomin...  \n",
       "3207400  https://www.thesun.co.uk/wp-content/uploads/20...  \n",
       "301737   http://l7.alamy.com/zooms/8188c1ff90864cd88612...  \n",
       "...                                                    ...  \n",
       "1346546  https://d1tq208oegmb9e.cloudfront.net/site_pho...  \n",
       "2155066  http://l7.alamy.com/zooms/4082074ab05848d39b7d...  \n",
       "2655020  http://l7.alamy.com/zooms/5e18a0e7f00148e490e8...  \n",
       "1803947  https://www.standard.co.uk/s3fs-public/styles/...  \n",
       "1269707  https://odis.homeaway.com/odis/listing/6e2ae14...  \n",
       "\n",
       "[100 rows x 2 columns]"
      ]
     },
     "execution_count": 93,
     "metadata": {},
     "output_type": "execute_result"
    }
   ],
   "source": [
    "a"
   ]
  },
  {
   "cell_type": "code",
   "execution_count": 94,
   "id": "664ab4f1-1f9d-408a-935b-5eb8b04eeb66",
   "metadata": {},
   "outputs": [],
   "source": [
    "b = pd.read_csv(\"daniel/df_c_low.tsv\", sep='\\t')"
   ]
  },
  {
   "cell_type": "code",
   "execution_count": 62,
   "id": "a54ae9bb-338f-4414-af04-c49346f4a489",
   "metadata": {},
   "outputs": [
    {
     "data": {
      "text/plain": [
       "'a flight was traveling when the animal got free on tuesday night'"
      ]
     },
     "execution_count": 62,
     "metadata": {},
     "output_type": "execute_result"
    }
   ],
   "source": [
    "df_train['caption'].loc[10]"
   ]
  },
  {
   "cell_type": "code",
   "execution_count": 75,
   "id": "b924577d-16fc-4dba-a9e5-6ac3737c55fc",
   "metadata": {},
   "outputs": [
    {
     "data": {
      "text/plain": [
       "'slim fit jeans från diesel till dam .'"
      ]
     },
     "execution_count": 75,
     "metadata": {},
     "output_type": "execute_result"
    }
   ],
   "source": [
    "df_train['caption'][1331163-2]"
   ]
  },
  {
   "cell_type": "code",
   "execution_count": 65,
   "id": "f201220f-2a2c-4f34-bf5f-11a9205e200e",
   "metadata": {},
   "outputs": [
    {
     "data": {
      "text/html": [
       "<div>\n",
       "<style scoped>\n",
       "    .dataframe tbody tr th:only-of-type {\n",
       "        vertical-align: middle;\n",
       "    }\n",
       "\n",
       "    .dataframe tbody tr th {\n",
       "        vertical-align: top;\n",
       "    }\n",
       "\n",
       "    .dataframe thead th {\n",
       "        text-align: right;\n",
       "    }\n",
       "</style>\n",
       "<table border=\"1\" class=\"dataframe\">\n",
       "  <thead>\n",
       "    <tr style=\"text-align: right;\">\n",
       "      <th></th>\n",
       "      <th>caption</th>\n",
       "      <th>url</th>\n",
       "    </tr>\n",
       "  </thead>\n",
       "  <tbody>\n",
       "    <tr>\n",
       "      <th>0</th>\n",
       "      <td>a very typical bus station</td>\n",
       "      <td>http://lh6.ggpht.com/-IvRtNLNcG8o/TpFyrudaT6I/...</td>\n",
       "    </tr>\n",
       "    <tr>\n",
       "      <th>1</th>\n",
       "      <td>sierra looked stunning in this top and this sk...</td>\n",
       "      <td>http://78.media.tumblr.com/3b133294bdc7c7784b7...</td>\n",
       "    </tr>\n",
       "    <tr>\n",
       "      <th>2</th>\n",
       "      <td>young confused girl standing in front of a war...</td>\n",
       "      <td>https://media.gettyimages.com/photos/young-con...</td>\n",
       "    </tr>\n",
       "    <tr>\n",
       "      <th>3</th>\n",
       "      <td>interior design of modern living room with fir...</td>\n",
       "      <td>https://thumb1.shutterstock.com/display_pic_wi...</td>\n",
       "    </tr>\n",
       "    <tr>\n",
       "      <th>4</th>\n",
       "      <td>cybernetic scene isolated on white background .</td>\n",
       "      <td>https://thumb1.shutterstock.com/display_pic_wi...</td>\n",
       "    </tr>\n",
       "    <tr>\n",
       "      <th>5</th>\n",
       "      <td>gangsta rap artist attends sports team vs play...</td>\n",
       "      <td>https://media.gettyimages.com/photos/jayz-atte...</td>\n",
       "    </tr>\n",
       "    <tr>\n",
       "      <th>6</th>\n",
       "      <td>the jetty : different types of plants to estab...</td>\n",
       "      <td>https://prismpub.com/wp-content/uploads/2016/1...</td>\n",
       "    </tr>\n",
       "    <tr>\n",
       "      <th>7</th>\n",
       "      <td>traditional ornamental floral paisley bandanna .</td>\n",
       "      <td>https://thumb1.shutterstock.com/display_pic_wi...</td>\n",
       "    </tr>\n",
       "    <tr>\n",
       "      <th>8</th>\n",
       "      <td># of the sports team skates against sports tea...</td>\n",
       "      <td>https://media.gettyimages.com/photos/bryan-mcc...</td>\n",
       "    </tr>\n",
       "    <tr>\n",
       "      <th>9</th>\n",
       "      <td>by geographical feature category or in the cit...</td>\n",
       "      <td>http://www.robinhoodshow.com/clients/17668/864...</td>\n",
       "    </tr>\n",
       "    <tr>\n",
       "      <th>10</th>\n",
       "      <td>a flight was traveling when the animal got fre...</td>\n",
       "      <td>http://i.dailymail.co.uk/i/pix/2016/08/10/15/3...</td>\n",
       "    </tr>\n",
       "  </tbody>\n",
       "</table>\n",
       "</div>"
      ],
      "text/plain": [
       "                                              caption  \\\n",
       "0                          a very typical bus station   \n",
       "1   sierra looked stunning in this top and this sk...   \n",
       "2   young confused girl standing in front of a war...   \n",
       "3   interior design of modern living room with fir...   \n",
       "4     cybernetic scene isolated on white background .   \n",
       "5   gangsta rap artist attends sports team vs play...   \n",
       "6   the jetty : different types of plants to estab...   \n",
       "7    traditional ornamental floral paisley bandanna .   \n",
       "8   # of the sports team skates against sports tea...   \n",
       "9   by geographical feature category or in the cit...   \n",
       "10  a flight was traveling when the animal got fre...   \n",
       "\n",
       "                                                  url  \n",
       "0   http://lh6.ggpht.com/-IvRtNLNcG8o/TpFyrudaT6I/...  \n",
       "1   http://78.media.tumblr.com/3b133294bdc7c7784b7...  \n",
       "2   https://media.gettyimages.com/photos/young-con...  \n",
       "3   https://thumb1.shutterstock.com/display_pic_wi...  \n",
       "4   https://thumb1.shutterstock.com/display_pic_wi...  \n",
       "5   https://media.gettyimages.com/photos/jayz-atte...  \n",
       "6   https://prismpub.com/wp-content/uploads/2016/1...  \n",
       "7   https://thumb1.shutterstock.com/display_pic_wi...  \n",
       "8   https://media.gettyimages.com/photos/bryan-mcc...  \n",
       "9   http://www.robinhoodshow.com/clients/17668/864...  \n",
       "10  http://i.dailymail.co.uk/i/pix/2016/08/10/15/3...  "
      ]
     },
     "execution_count": 65,
     "metadata": {},
     "output_type": "execute_result"
    }
   ],
   "source": [
    "df_train.head(11)"
   ]
  },
  {
   "cell_type": "code",
   "execution_count": null,
   "id": "5d9cc7cf-8910-4799-aded-00561e00eac1",
   "metadata": {},
   "outputs": [],
   "source": []
  },
  {
   "cell_type": "code",
   "execution_count": null,
   "id": "1bd844e9-feef-4227-a8e5-97b67297f593",
   "metadata": {},
   "outputs": [],
   "source": []
  },
  {
   "cell_type": "code",
   "execution_count": 358,
   "id": "8bdc5d91-b10f-4133-8bce-188518fe2c4e",
   "metadata": {},
   "outputs": [
    {
     "name": "stdout",
     "output_type": "stream",
     "text": [
      "# holds off ice hockey left winger # 23 after losing his stick during a game .\n",
      "# holds off ice hockey left winger # 23 after losing his stick during a game .\n",
      "1.0\n",
      "0.9487\n"
     ]
    }
   ],
   "source": [
    "x=1940905\n",
    "y=1601005\n",
    "print(df_train['caption'][x])\n",
    "print(df_train['caption'][y])\n",
    "print(np.sum(txt23[idx23.index(x)]*txt18[idx18.index(x)]))\n",
    "print(np.sum(img23[idx23.index(x)]*img18[idx18.index(x)]))"
   ]
  },
  {
   "cell_type": "code",
   "execution_count": 376,
   "id": "f3151b57-8bc0-4ae9-b6d6-f76eecb74f0e",
   "metadata": {},
   "outputs": [
    {
     "data": {
      "image/png": "[encoded data removed]",
      "text/plain": [
       "<Figure size 640x480 with 1 Axes>"
      ]
     },
     "metadata": {},
     "output_type": "display_data"
    }
   ],
   "source": [
    "k = 10000\n",
    "trials = np.zeros(k)\n",
    "for i in range(k):\n",
    "    x = random.randint(0, len(idx23))\n",
    "    y = random.randint(0, len(idx18))\n",
    "    trials[i] = np.sum(img23[x]*img18[y])\n",
    "plt.hist(trials,50)\n",
    "plt.show()"
   ]
  },
  {
   "cell_type": "code",
   "execution_count": 378,
   "id": "44bf1885-d4a4-4408-b089-9f5bcbd87928",
   "metadata": {},
   "outputs": [
    {
     "data": {
      "image/png": "[encoded data removed]",
      "text/plain": [
       "<Figure size 640x480 with 1 Axes>"
      ]
     },
     "metadata": {},
     "output_type": "display_data"
    }
   ],
   "source": [
    "k = 10000\n",
    "trials = np.zeros(k)\n",
    "for i in range(k):\n",
    "    x = random.randint(5, len(idx23)-5)\n",
    "    y = random.randint(x-5, x+5)\n",
    "    trials[i] = np.sum(img23[x]*img18[y])\n",
    "plt.hist(trials,50)\n",
    "plt.show()"
   ]
  },
  {
   "cell_type": "code",
   "execution_count": 38,
   "id": "8e19e5e9-1fa4-48f8-8b44-16c550fb8a77",
   "metadata": {},
   "outputs": [
    {
     "data": {
      "text/plain": [
       "3318334"
      ]
     },
     "execution_count": 38,
     "metadata": {},
     "output_type": "execute_result"
    }
   ],
   "source": [
    "max(idx23)"
   ]
  },
  {
   "cell_type": "code",
   "execution_count": 40,
   "id": "9d6dc9dc-0e59-4476-8486-2109fb0c00ec",
   "metadata": {},
   "outputs": [
    {
     "data": {
      "text/plain": [
       "3318334"
      ]
     },
     "execution_count": 40,
     "metadata": {},
     "output_type": "execute_result"
    }
   ],
   "source": [
    "max(idx18)"
   ]
  },
  {
   "cell_type": "code",
   "execution_count": 39,
   "id": "c08031e3-5773-4e4d-80ce-2dbcd3be90d3",
   "metadata": {},
   "outputs": [
    {
     "data": {
      "text/plain": [
       "3318333"
      ]
     },
     "execution_count": 39,
     "metadata": {},
     "output_type": "execute_result"
    }
   ],
   "source": [
    "len(df_train)"
   ]
  },
  {
   "cell_type": "code",
   "execution_count": 41,
   "id": "51500ca2-db1c-4390-8fa0-4a07e217b4cd",
   "metadata": {},
   "outputs": [
    {
     "data": {
      "text/html": [
       "<div>\n",
       "<style scoped>\n",
       "    .dataframe tbody tr th:only-of-type {\n",
       "        vertical-align: middle;\n",
       "    }\n",
       "\n",
       "    .dataframe tbody tr th {\n",
       "        vertical-align: top;\n",
       "    }\n",
       "\n",
       "    .dataframe thead th {\n",
       "        text-align: right;\n",
       "    }\n",
       "</style>\n",
       "<table border=\"1\" class=\"dataframe\">\n",
       "  <thead>\n",
       "    <tr style=\"text-align: right;\">\n",
       "      <th></th>\n",
       "      <th>caption</th>\n",
       "      <th>url</th>\n",
       "    </tr>\n",
       "  </thead>\n",
       "  <tbody>\n",
       "    <tr>\n",
       "      <th>3318330</th>\n",
       "      <td>this is my very favourite design that i recent...</td>\n",
       "      <td>https://i.pinimg.com/736x/96/f0/77/96f07728efe...</td>\n",
       "    </tr>\n",
       "    <tr>\n",
       "      <th>3318331</th>\n",
       "      <td>man driving a car through the mountains</td>\n",
       "      <td>https://www.quickenloans.com/blog/wp-content/u...</td>\n",
       "    </tr>\n",
       "    <tr>\n",
       "      <th>3318332</th>\n",
       "      <td>a longtail boat with a flag goes by spectacula...</td>\n",
       "      <td>http://l7.alamy.com/zooms/338c4740f7b2480dbb72...</td>\n",
       "    </tr>\n",
       "  </tbody>\n",
       "</table>\n",
       "</div>"
      ],
      "text/plain": [
       "                                                   caption  \\\n",
       "3318330  this is my very favourite design that i recent...   \n",
       "3318331            man driving a car through the mountains   \n",
       "3318332  a longtail boat with a flag goes by spectacula...   \n",
       "\n",
       "                                                       url  \n",
       "3318330  https://i.pinimg.com/736x/96/f0/77/96f07728efe...  \n",
       "3318331  https://www.quickenloans.com/blog/wp-content/u...  \n",
       "3318332  http://l7.alamy.com/zooms/338c4740f7b2480dbb72...  "
      ]
     },
     "execution_count": 41,
     "metadata": {},
     "output_type": "execute_result"
    }
   ],
   "source": [
    "df_train.tail(3)"
   ]
  },
  {
   "cell_type": "code",
   "execution_count": 42,
   "id": "0ee230c7-028a-4ed3-9929-e36d47518b38",
   "metadata": {},
   "outputs": [
    {
     "ename": "KeyboardInterrupt",
     "evalue": "",
     "output_type": "error",
     "traceback": [
      "\u001b[0;31m---------------------------------------------------------------------------\u001b[0m",
      "\u001b[0;31mKeyboardInterrupt\u001b[0m                         Traceback (most recent call last)",
      "Cell \u001b[0;32mIn[42], line 1\u001b[0m\n\u001b[0;32m----> 1\u001b[0m \u001b[38;5;28mset\u001b[39m([x \u001b[38;5;28;01mfor\u001b[39;00m x \u001b[38;5;129;01min\u001b[39;00m idx23 \u001b[38;5;28;01mif\u001b[39;00m idx23\u001b[38;5;241m.\u001b[39mcount(x) \u001b[38;5;241m>\u001b[39m \u001b[38;5;241m1\u001b[39m])\n",
      "Cell \u001b[0;32mIn[42], line 1\u001b[0m, in \u001b[0;36m<listcomp>\u001b[0;34m(.0)\u001b[0m\n\u001b[0;32m----> 1\u001b[0m \u001b[38;5;28mset\u001b[39m([x \u001b[38;5;28;01mfor\u001b[39;00m x \u001b[38;5;129;01min\u001b[39;00m idx23 \u001b[38;5;28;01mif\u001b[39;00m \u001b[43midx23\u001b[49m\u001b[38;5;241;43m.\u001b[39;49m\u001b[43mcount\u001b[49m\u001b[43m(\u001b[49m\u001b[43mx\u001b[49m\u001b[43m)\u001b[49m \u001b[38;5;241m>\u001b[39m \u001b[38;5;241m1\u001b[39m])\n",
      "\u001b[0;31mKeyboardInterrupt\u001b[0m: "
     ]
    }
   ],
   "source": [
    "set([x for x in idx23 if idx23.count(x) > 1])"
   ]
  },
  {
   "cell_type": "code",
   "execution_count": 43,
   "id": "4c515dd7-7410-43d6-8613-2c0a85f21fad",
   "metadata": {},
   "outputs": [],
   "source": [
    "count_idx18 = np.zeros(max(idx18)+1)\n",
    "for i in range(len(idx18)):\n",
    "    count_idx18[idx18[i]] += 1"
   ]
  },
  {
   "cell_type": "code",
   "execution_count": 95,
   "id": "116868cb-8aa7-45d3-b1eb-20c526669607",
   "metadata": {},
   "outputs": [
    {
     "data": {
      "text/plain": [
       "99.98237066623513"
      ]
     },
     "execution_count": 95,
     "metadata": {},
     "output_type": "execute_result"
    }
   ],
   "source": [
    "np.sum(count_idx18 > 0.5)/len(df_train)*100"
   ]
  },
  {
   "cell_type": "code",
   "execution_count": 68,
   "id": "9b2a221a-37c5-449b-a801-f58eaa069129",
   "metadata": {},
   "outputs": [
    {
     "data": {
      "text/plain": [
       "7387"
      ]
     },
     "execution_count": 68,
     "metadata": {},
     "output_type": "execute_result"
    }
   ],
   "source": [
    "idx18[5]"
   ]
  },
  {
   "cell_type": "code",
   "execution_count": 69,
   "id": "da6d4a13-f835-461c-98f5-c4e768f5495c",
   "metadata": {},
   "outputs": [
    {
     "data": {
      "text/plain": [
       "5"
      ]
     },
     "execution_count": 69,
     "metadata": {},
     "output_type": "execute_result"
    }
   ],
   "source": [
    "idx18.index(7387)"
   ]
  },
  {
   "cell_type": "code",
   "execution_count": 65,
   "id": "ca4a4a9f-13fd-4dae-8a61-922083fcae3b",
   "metadata": {},
   "outputs": [
    {
     "data": {
      "text/plain": [
       "155882"
      ]
     },
     "execution_count": 65,
     "metadata": {},
     "output_type": "execute_result"
    }
   ],
   "source": [
    "np.where(count_idx18>1)[0][0]"
   ]
  },
  {
   "cell_type": "code",
   "execution_count": 70,
   "id": "4d77422f-0253-4f3d-ae6a-59f522c89885",
   "metadata": {},
   "outputs": [
    {
     "data": {
      "text/plain": [
       "2.0"
      ]
     },
     "execution_count": 70,
     "metadata": {},
     "output_type": "execute_result"
    }
   ],
   "source": [
    "count_idx18[155882]"
   ]
  },
  {
   "cell_type": "code",
   "execution_count": 71,
   "id": "0d815802-27b3-4490-a33b-5244c565afbb",
   "metadata": {},
   "outputs": [
    {
     "name": "stdout",
     "output_type": "stream",
     "text": [
      "151541\n",
      "153558\n"
     ]
    }
   ],
   "source": [
    "for i in range(len(idx18)):\n",
    "    if idx18[i] == 155882:\n",
    "        print(i)"
   ]
  },
  {
   "cell_type": "code",
   "execution_count": 73,
   "id": "aaa43805-0d76-4073-9f4a-3130022cce9d",
   "metadata": {},
   "outputs": [
    {
     "data": {
      "text/plain": [
       "155882"
      ]
     },
     "execution_count": 73,
     "metadata": {},
     "output_type": "execute_result"
    }
   ],
   "source": [
    "idx18[153558]"
   ]
  },
  {
   "cell_type": "code",
   "execution_count": 67,
   "id": "2aea6fa0-d561-4b62-ba6b-03e5576aa1bb",
   "metadata": {},
   "outputs": [
    {
     "data": {
      "text/plain": [
       "151541"
      ]
     },
     "execution_count": 67,
     "metadata": {},
     "output_type": "execute_result"
    }
   ],
   "source": [
    "idx18.index(155882)"
   ]
  },
  {
   "cell_type": "code",
   "execution_count": 46,
   "id": "37b81c64-67ac-426f-8675-0203ca7bb02d",
   "metadata": {},
   "outputs": [
    {
     "data": {
      "text/plain": [
       "513"
      ]
     },
     "execution_count": 46,
     "metadata": {},
     "output_type": "execute_result"
    }
   ],
   "source": [
    "np.sum(count_idx18>1)\n",
    "np.sum(count_idx18[count_idx18>1])"
   ]
  },
  {
   "cell_type": "code",
   "execution_count": 56,
   "id": "5e48768e-ec33-46fe-b242-2ee39a04b1bf",
   "metadata": {},
   "outputs": [
    {
     "data": {
      "text/plain": [
       "1034.0"
      ]
     },
     "execution_count": 56,
     "metadata": {},
     "output_type": "execute_result"
    }
   ],
   "source": []
  },
  {
   "cell_type": "code",
   "execution_count": 58,
   "id": "73a6e980-9764-44fb-8607-a72cf2fbad87",
   "metadata": {},
   "outputs": [
    {
     "name": "stdout",
     "output_type": "stream",
     "text": [
      "64\n"
     ]
    }
   ],
   "source": [
    "print(len(df_train) - (len(idx18)))"
   ]
  },
  {
   "cell_type": "code",
   "execution_count": 59,
   "id": "1188416e-349f-4d36-8e17-ed4b3caeffda",
   "metadata": {},
   "outputs": [
    {
     "data": {
      "text/plain": [
       "465"
      ]
     },
     "execution_count": 59,
     "metadata": {},
     "output_type": "execute_result"
    }
   ],
   "source": [
    "len(missing_indexes)"
   ]
  },
  {
   "cell_type": "code",
   "execution_count": 60,
   "id": "7aac9cd5-8474-4625-a3fc-e2a4ed830bfc",
   "metadata": {},
   "outputs": [
    {
     "ename": "KeyError",
     "evalue": "Index(['idx'], dtype='object')",
     "output_type": "error",
     "traceback": [
      "\u001b[0;31m---------------------------------------------------------------------------\u001b[0m",
      "\u001b[0;31mKeyError\u001b[0m                                  Traceback (most recent call last)",
      "\u001b[0;32m/tmp/ipykernel_4096881/4040883030.py\u001b[0m in \u001b[0;36m?\u001b[0;34m()\u001b[0m\n\u001b[0;32m----> 1\u001b[0;31m \u001b[0mdf_train\u001b[0m\u001b[0;34m[\u001b[0m\u001b[0mdf_train\u001b[0m\u001b[0;34m.\u001b[0m\u001b[0mduplicated\u001b[0m\u001b[0;34m(\u001b[0m\u001b[0msubset\u001b[0m\u001b[0;34m=\u001b[0m\u001b[0;34m[\u001b[0m\u001b[0;34m'idx'\u001b[0m\u001b[0;34m]\u001b[0m\u001b[0;34m,\u001b[0m\u001b[0mkeep\u001b[0m\u001b[0;34m=\u001b[0m\u001b[0;32mFalse\u001b[0m\u001b[0;34m)\u001b[0m\u001b[0;34m]\u001b[0m\u001b[0;34m\u001b[0m\u001b[0;34m\u001b[0m\u001b[0m\n\u001b[0m",
      "\u001b[0;32m/local/home/tcelik/venv/lib/python3.8/site-packages/pandas/core/frame.py\u001b[0m in \u001b[0;36m?\u001b[0;34m(self, subset, keep)\u001b[0m\n\u001b[1;32m   6650\u001b[0m         \u001b[0;31m# Otherwise, raise a KeyError, same as if you try to __getitem__ with a\u001b[0m\u001b[0;34m\u001b[0m\u001b[0;34m\u001b[0m\u001b[0;34m\u001b[0m\u001b[0m\n\u001b[1;32m   6651\u001b[0m         \u001b[0;31m# key that doesn't exist.\u001b[0m\u001b[0;34m\u001b[0m\u001b[0;34m\u001b[0m\u001b[0;34m\u001b[0m\u001b[0m\n\u001b[1;32m   6652\u001b[0m         \u001b[0mdiff\u001b[0m \u001b[0;34m=\u001b[0m \u001b[0mset\u001b[0m\u001b[0;34m(\u001b[0m\u001b[0msubset\u001b[0m\u001b[0;34m)\u001b[0m \u001b[0;34m-\u001b[0m \u001b[0mset\u001b[0m\u001b[0;34m(\u001b[0m\u001b[0mself\u001b[0m\u001b[0;34m.\u001b[0m\u001b[0mcolumns\u001b[0m\u001b[0;34m)\u001b[0m\u001b[0;34m\u001b[0m\u001b[0;34m\u001b[0m\u001b[0m\n\u001b[1;32m   6653\u001b[0m         \u001b[0;32mif\u001b[0m \u001b[0mdiff\u001b[0m\u001b[0;34m:\u001b[0m\u001b[0;34m\u001b[0m\u001b[0;34m\u001b[0m\u001b[0m\n\u001b[0;32m-> 6654\u001b[0;31m             \u001b[0;32mraise\u001b[0m \u001b[0mKeyError\u001b[0m\u001b[0;34m(\u001b[0m\u001b[0mIndex\u001b[0m\u001b[0;34m(\u001b[0m\u001b[0mdiff\u001b[0m\u001b[0;34m)\u001b[0m\u001b[0;34m)\u001b[0m\u001b[0;34m\u001b[0m\u001b[0;34m\u001b[0m\u001b[0m\n\u001b[0m\u001b[1;32m   6655\u001b[0m \u001b[0;34m\u001b[0m\u001b[0m\n\u001b[1;32m   6656\u001b[0m         \u001b[0;32mif\u001b[0m \u001b[0mlen\u001b[0m\u001b[0;34m(\u001b[0m\u001b[0msubset\u001b[0m\u001b[0;34m)\u001b[0m \u001b[0;34m==\u001b[0m \u001b[0;36m1\u001b[0m \u001b[0;32mand\u001b[0m \u001b[0mself\u001b[0m\u001b[0;34m.\u001b[0m\u001b[0mcolumns\u001b[0m\u001b[0;34m.\u001b[0m\u001b[0mis_unique\u001b[0m\u001b[0;34m:\u001b[0m\u001b[0;34m\u001b[0m\u001b[0;34m\u001b[0m\u001b[0m\n\u001b[1;32m   6657\u001b[0m             \u001b[0;31m# GH#45236 This is faster than get_group_index below\u001b[0m\u001b[0;34m\u001b[0m\u001b[0;34m\u001b[0m\u001b[0;34m\u001b[0m\u001b[0m\n",
      "\u001b[0;31mKeyError\u001b[0m: Index(['idx'], dtype='object')"
     ]
    }
   ],
   "source": [
    "df_train[df_train.duplicated(subset=['idx'],keep=False)]"
   ]
  },
  {
   "cell_type": "code",
   "execution_count": 47,
   "id": "ce66d6ba-8c4b-4384-8af2-82f6c2e55e48",
   "metadata": {},
   "outputs": [],
   "source": [
    "count_idx23 = np.zeros(max(idx23)+1)\n",
    "for i in range(len(idx23)):\n",
    "    count_idx23[idx23[i]] += 1"
   ]
  },
  {
   "cell_type": "code",
   "execution_count": 55,
   "id": "b7646aea-9aef-432b-ac68-8fbe815374ce",
   "metadata": {},
   "outputs": [
    {
     "data": {
      "text/plain": [
       "0"
      ]
     },
     "execution_count": 55,
     "metadata": {},
     "output_type": "execute_result"
    }
   ],
   "source": [
    "np.sum(count_idx23>1)"
   ]
  },
  {
   "cell_type": "code",
   "execution_count": 49,
   "id": "427b06d0-ea42-4fcf-a66d-4d2613cc9677",
   "metadata": {},
   "outputs": [],
   "source": [
    "missing_indexes = list(set(idx23) - set(idx18))"
   ]
  },
  {
   "cell_type": "code",
   "execution_count": 54,
   "id": "133229d6-37b0-4e20-9619-1516d56bd093",
   "metadata": {},
   "outputs": [
    {
     "data": {
      "text/plain": [
       "'https://thumb9.shutterstock.com/display_pic_with_logo/1813379/428150692/stock-vector-original-youth-seamless-patterns-repeating-image-for-using-pattern-on-any-items-t-shirts-428150692.jpg'"
      ]
     },
     "execution_count": 54,
     "metadata": {},
     "output_type": "execute_result"
    }
   ],
   "source": [
    "df_train['url'][-2+missing_indexes[0]]"
   ]
  },
  {
   "cell_type": "code",
   "execution_count": 124,
   "id": "d8941ef1-e7e9-49b6-aa70-73702c44aa4d",
   "metadata": {},
   "outputs": [
    {
     "data": {
      "text/plain": [
       "(3318269, 512)"
      ]
     },
     "execution_count": 124,
     "metadata": {},
     "output_type": "execute_result"
    }
   ],
   "source": [
    "img18.shape"
   ]
  },
  {
   "cell_type": "code",
   "execution_count": 126,
   "id": "319ea1f2-9a3b-425f-8f87-b8d9b50c1cab",
   "metadata": {},
   "outputs": [
    {
     "data": {
      "text/plain": [
       "0.9277"
      ]
     },
     "execution_count": 126,
     "metadata": {},
     "output_type": "execute_result"
    }
   ],
   "source": [
    "x = 2876\n",
    "np.sum(img23[idx23.index(x)]*img18[idx18.index(x)])"
   ]
  },
  {
   "cell_type": "code",
   "execution_count": null,
   "id": "6f4f1e11-56c8-47f4-a529-5d66388499bc",
   "metadata": {},
   "outputs": [],
   "source": []
  }
 ],
 "metadata": {
  "kernelspec": {
   "display_name": "virtualenv",
   "language": "python",
   "name": "virtualenv"
  },
  "language_info": {
   "codemirror_mode": {
    "name": "ipython",
    "version": 3
   },
   "file_extension": ".py",
   "mimetype": "text/x-python",
   "name": "python",
   "nbconvert_exporter": "python",
   "pygments_lexer": "ipython3",
   "version": "3.8.10"
  }
 },
 "nbformat": 4,
 "nbformat_minor": 5
}
